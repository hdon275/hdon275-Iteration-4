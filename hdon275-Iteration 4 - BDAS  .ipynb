{
 "cells": [
  {
   "cell_type": "code",
   "execution_count": 1,
   "metadata": {},
   "outputs": [],
   "source": [
    "# Must be included at the beginning of each new notebook. Remember to change the app name.\n",
    "import findspark\n",
    "findspark.init('/home/ubuntu/spark-2.1.1-bin-hadoop2.7')\n",
    "import pyspark\n",
    "from pyspark.sql import SparkSession\n",
    "spark = SparkSession.builder.appName('hdon275_722').getOrCreate()\n",
    "import pandas\n",
    "import numpy\n",
    "import matplotlib.pyplot as plt"
   ]
  },
  {
   "cell_type": "code",
   "execution_count": 2,
   "metadata": {},
   "outputs": [
    {
     "name": "stdout",
     "output_type": "stream",
     "text": [
      "+----------------+------------+--------------------+----------+-----------+-----+--------------------+--------------------+---+----+-----+\n",
      "|Measurement date|Station code|             Address|  Latitude|  Longitude|  SO2|                 NO2|                  O3| CO|PM10|PM2.5|\n",
      "+----------------+------------+--------------------+----------+-----------+-----+--------------------+--------------------+---+----+-----+\n",
      "|2017-01-01 00:00|         101|19, Jong-ro 35ga-...|37.5720164|127.0050075|0.004|               0.059|               0.002|1.2|73.0| 57.0|\n",
      "|2017-01-01 01:00|         101|19, Jong-ro 35ga-...|37.5720164|127.0050075|0.004|               0.058|               0.002|1.2|71.0| 59.0|\n",
      "|2017-01-01 02:00|         101|19, Jong-ro 35ga-...|37.5720164|127.0050075|0.004|               0.056|               0.002|1.2|70.0| 59.0|\n",
      "|2017-01-01 03:00|         101|19, Jong-ro 35ga-...|37.5720164|127.0050075|0.004|               0.056|               0.002|1.2|70.0| 58.0|\n",
      "|2017-01-01 04:00|         101|19, Jong-ro 35ga-...|37.5720164|127.0050075|0.003|               0.051|               0.002|1.2|69.0| 61.0|\n",
      "|2017-01-01 05:00|         101|19, Jong-ro 35ga-...|37.5720164|127.0050075|0.003|               0.046|               0.002|1.1|70.0| 61.0|\n",
      "|2017-01-01 06:00|         101|19, Jong-ro 35ga-...|37.5720164|127.0050075|0.003|               0.049|               0.002|1.1|66.0| 57.0|\n",
      "|2017-01-01 07:00|         101|19, Jong-ro 35ga-...|37.5720164|127.0050075|0.003|               0.045|               0.002|1.0|71.0| 60.0|\n",
      "|2017-01-01 08:00|         101|19, Jong-ro 35ga-...|37.5720164|127.0050075|0.004|               0.047|               0.002|1.1|72.0| 60.0|\n",
      "|2017-01-01 09:00|         101|19, Jong-ro 35ga-...|37.5720164|127.0050075|0.003|               0.047|               0.002|1.1|74.0| 63.0|\n",
      "|2017-01-01 10:00|         101|19, Jong-ro 35ga-...|37.5720164|127.0050075|0.004|               0.045|               0.004|1.0|76.0| 68.0|\n",
      "|2017-01-01 11:00|         101|19, Jong-ro 35ga-...|37.5720164|127.0050075|0.004|               0.048|               0.005|1.0|83.0| 74.0|\n",
      "|2017-01-01 12:00|         101|19, Jong-ro 35ga-...|37.5720164|127.0050075|0.004|0.054000000000000006|               0.005|1.0|93.0| 79.0|\n",
      "|2017-01-01 13:00|         101|19, Jong-ro 35ga-...|37.5720164|127.0050075|0.005|                0.05|0.006999999999999999|1.0|94.0| 79.0|\n",
      "|2017-01-01 14:00|         101|19, Jong-ro 35ga-...|37.5720164|127.0050075|0.006|               0.055|               0.008|0.9|93.0| 78.0|\n",
      "|2017-01-01 15:00|         101|19, Jong-ro 35ga-...|37.5720164|127.0050075|0.006|               0.056|               0.008|0.8|87.0| 69.0|\n",
      "|2017-01-01 16:00|         101|19, Jong-ro 35ga-...|37.5720164|127.0050075|0.006|               0.063|               0.004|0.9|87.0| 69.0|\n",
      "|2017-01-01 17:00|         101|19, Jong-ro 35ga-...|37.5720164|127.0050075|0.005|               0.063|               0.002|0.9|91.0| 72.0|\n",
      "|2017-01-01 18:00|         101|19, Jong-ro 35ga-...|37.5720164|127.0050075|0.005|               0.063|               0.002|1.0|91.0| 69.0|\n",
      "|2017-01-01 19:00|         101|19, Jong-ro 35ga-...|37.5720164|127.0050075|0.005|               0.062|               0.002|1.0|92.0| 70.0|\n",
      "+----------------+------------+--------------------+----------+-----------+-----+--------------------+--------------------+---+----+-----+\n",
      "only showing top 20 rows\n",
      "\n"
     ]
    }
   ],
   "source": [
    "# Importing data which has a header. Schema is automatically configured.\n",
    "file = spark.read.csv('./Measurement_summary.csv', header=True, inferSchema=True)\n",
    "\n",
    "# Let's see the data. You'll notice nulls.\n",
    "file.show()\n"
   ]
  },
  {
   "cell_type": "code",
   "execution_count": 3,
   "metadata": {},
   "outputs": [
    {
     "data": {
      "text/plain": [
       "['Measurement date',\n",
       " 'Station code',\n",
       " 'Address',\n",
       " 'Latitude',\n",
       " 'Longitude',\n",
       " 'SO2',\n",
       " 'NO2',\n",
       " 'O3',\n",
       " 'CO',\n",
       " 'PM10',\n",
       " 'PM2.5']"
      ]
     },
     "execution_count": 3,
     "metadata": {},
     "output_type": "execute_result"
    }
   ],
   "source": [
    "file.columns"
   ]
  },
  {
   "cell_type": "code",
   "execution_count": 4,
   "metadata": {},
   "outputs": [
    {
     "name": "stdout",
     "output_type": "stream",
     "text": [
      "root\n",
      " |-- Measurement date: string (nullable = true)\n",
      " |-- Station code: integer (nullable = true)\n",
      " |-- Address: string (nullable = true)\n",
      " |-- Latitude: double (nullable = true)\n",
      " |-- Longitude: double (nullable = true)\n",
      " |-- SO2: double (nullable = true)\n",
      " |-- NO2: double (nullable = true)\n",
      " |-- O3: double (nullable = true)\n",
      " |-- CO: double (nullable = true)\n",
      " |-- PM10: double (nullable = true)\n",
      " |-- PM2.5: double (nullable = true)\n",
      "\n"
     ]
    }
   ],
   "source": [
    "file.printSchema()"
   ]
  },
  {
   "cell_type": "code",
   "execution_count": 5,
   "metadata": {},
   "outputs": [
    {
     "data": {
      "text/plain": [
       "647511"
      ]
     },
     "execution_count": 5,
     "metadata": {},
     "output_type": "execute_result"
    }
   ],
   "source": [
    "file.count()"
   ]
  },
  {
   "cell_type": "code",
   "execution_count": 3,
   "metadata": {},
   "outputs": [
    {
     "name": "stdout",
     "output_type": "stream",
     "text": [
      "+----------------+------------+---------+--------------------+-----------------+\n",
      "|Measurement date|Station code|Item code|       Average value|Instrument status|\n",
      "+----------------+------------+---------+--------------------+-----------------+\n",
      "|2017-01-01 00:00|         101|        1|               0.004|                0|\n",
      "|2017-01-01 00:00|         101|        3|0.059000000000000004|                0|\n",
      "|2017-01-01 00:00|         101|        5|                 1.2|                0|\n",
      "|2017-01-01 00:00|         101|        6|               0.002|                0|\n",
      "|2017-01-01 00:00|         101|        8|                73.0|                0|\n",
      "|2017-01-01 00:00|         101|        9|                57.0|                0|\n",
      "|2017-01-01 00:00|         102|        1|               0.006|                0|\n",
      "|2017-01-01 00:00|         102|        3|               0.068|                0|\n",
      "|2017-01-01 00:00|         102|        5|                 1.3|                0|\n",
      "|2017-01-01 00:00|         102|        6|               0.002|                0|\n",
      "|2017-01-01 00:00|         102|        8|                77.0|                0|\n",
      "|2017-01-01 00:00|         102|        9|                63.0|                0|\n",
      "|2017-01-01 00:00|         103|        1|               0.005|                0|\n",
      "|2017-01-01 00:00|         103|        3|               0.039|                0|\n",
      "|2017-01-01 00:00|         103|        5|                 1.4|                0|\n",
      "|2017-01-01 00:00|         103|        6|               0.002|                0|\n",
      "|2017-01-01 00:00|         103|        8|                70.0|                0|\n",
      "|2017-01-01 00:00|         103|        9|                68.0|                0|\n",
      "|2017-01-01 00:00|         104|        1|               0.005|                0|\n",
      "|2017-01-01 00:00|         104|        3|               0.045|                0|\n",
      "+----------------+------------+---------+--------------------+-----------------+\n",
      "only showing top 20 rows\n",
      "\n"
     ]
    }
   ],
   "source": [
    "# Importing data which has a header. Schema is automatically configured.\n",
    "station_file = spark.read.csv('./Measurement_info.csv', header=True, inferSchema=True)\n",
    "\n",
    "# Let's see the data. You'll notice nulls.\n",
    "station_file.show()"
   ]
  },
  {
   "cell_type": "code",
   "execution_count": 7,
   "metadata": {},
   "outputs": [
    {
     "name": "stdout",
     "output_type": "stream",
     "text": [
      "+-------+----------------+------------------+-----------------+------------------+-------------------+\n",
      "|summary|Measurement date|      Station code|        Item code|     Average value|  Instrument status|\n",
      "+-------+----------------+------------------+-----------------+------------------+-------------------+\n",
      "|  count|         3885066|           3885066|          3885066|           3885066|            3885066|\n",
      "|   mean|            null|113.00022084566903|5.333333333333333|11.611324235608173|0.14718900528330792|\n",
      "| stddev|            null| 7.211310464406794|2.748737437502079| 38.16098090381736| 1.0216420958778007|\n",
      "|    min|2017-01-01 00:00|               101|                1|              -1.0|                  0|\n",
      "|    max|2019-12-31 23:00|               125|                9|            6256.0|                  9|\n",
      "+-------+----------------+------------------+-----------------+------------------+-------------------+\n",
      "\n"
     ]
    }
   ],
   "source": [
    "station_file.describe().show()"
   ]
  },
  {
   "cell_type": "code",
   "execution_count": 8,
   "metadata": {},
   "outputs": [
    {
     "data": {
      "text/plain": [
       "['Measurement date',\n",
       " 'Station code',\n",
       " 'Item code',\n",
       " 'Average value',\n",
       " 'Instrument status']"
      ]
     },
     "execution_count": 8,
     "metadata": {},
     "output_type": "execute_result"
    }
   ],
   "source": [
    "station_file.columns"
   ]
  },
  {
   "cell_type": "code",
   "execution_count": 6,
   "metadata": {},
   "outputs": [
    {
     "name": "stdout",
     "output_type": "stream",
     "text": [
      "Instrument status:  [0 9 4 8 1 2]\n"
     ]
    }
   ],
   "source": [
    "station_status=pandas.read_csv(\"Measurement_info.csv\")\n",
    "print(\"Instrument status: \",station_status[\"Instrument status\"].unique())"
   ]
  },
  {
   "cell_type": "code",
   "execution_count": 8,
   "metadata": {},
   "outputs": [],
   "source": [
    "file_pandas=pandas.read_csv(\"Measurement_summary.csv\")"
   ]
  },
  {
   "cell_type": "code",
   "execution_count": 12,
   "metadata": {},
   "outputs": [
    {
     "name": "stdout",
     "output_type": "stream",
     "text": [
      "(647511, 11)\n"
     ]
    }
   ],
   "source": [
    "print(file_pandas.shape)#The number of rows and columns of the output data set"
   ]
  },
  {
   "cell_type": "code",
   "execution_count": 14,
   "metadata": {},
   "outputs": [
    {
     "data": {
      "image/png": "[encoded data removed]",
      "text/plain": [
       "<Figure size 432x288 with 1 Axes>"
      ]
     },
     "metadata": {},
     "output_type": "display_data"
    }
   ],
   "source": [
    "plt.hist(file_pandas[\"SO2\"])\n",
    "plt.show()"
   ]
  },
  {
   "cell_type": "code",
   "execution_count": 16,
   "metadata": {},
   "outputs": [
    {
     "data": {
      "image/png": "[encoded data removed]",
      "text/plain": [
       "<Figure size 432x288 with 1 Axes>"
      ]
     },
     "metadata": {},
     "output_type": "display_data"
    }
   ],
   "source": [
    "plt.hist(file_pandas[\"NO2\"])\n",
    "plt.show()"
   ]
  },
  {
   "cell_type": "code",
   "execution_count": 17,
   "metadata": {},
   "outputs": [
    {
     "data": {
      "image/png": "[encoded data removed]",
      "text/plain": [
       "<Figure size 432x288 with 1 Axes>"
      ]
     },
     "metadata": {},
     "output_type": "display_data"
    }
   ],
   "source": [
    "plt.hist(file_pandas[\"O3\"])\n",
    "plt.show()"
   ]
  },
  {
   "cell_type": "code",
   "execution_count": 18,
   "metadata": {},
   "outputs": [
    {
     "data": {
      "image/png": "[encoded data removed]",
      "text/plain": [
       "<Figure size 432x288 with 1 Axes>"
      ]
     },
     "metadata": {},
     "output_type": "display_data"
    }
   ],
   "source": [
    "plt.hist(file_pandas[\"CO\"])\n",
    "plt.show()"
   ]
  },
  {
   "cell_type": "code",
   "execution_count": 19,
   "metadata": {},
   "outputs": [
    {
     "data": {
      "image/png": "[encoded data removed]",
      "text/plain": [
       "<Figure size 432x288 with 1 Axes>"
      ]
     },
     "metadata": {},
     "output_type": "display_data"
    }
   ],
   "source": [
    "plt.hist(file_pandas[\"PM10\"])\n",
    "plt.show()"
   ]
  },
  {
   "cell_type": "code",
   "execution_count": 20,
   "metadata": {},
   "outputs": [
    {
     "data": {
      "image/png": "[encoded data removed]",
      "text/plain": [
       "<Figure size 432x288 with 1 Axes>"
      ]
     },
     "metadata": {},
     "output_type": "display_data"
    }
   ],
   "source": [
    "plt.hist(file_pandas[\"PM2.5\"])\n",
    "plt.show()"
   ]
  },
  {
   "cell_type": "code",
   "execution_count": 21,
   "metadata": {},
   "outputs": [
    {
     "name": "stdout",
     "output_type": "stream",
     "text": [
      "         Measurement date  Station code  Item code  Average value  \\\n",
      "668      2017-01-01 04:00           112          5          1.500   \n",
      "809      2017-01-01 05:00           110          9         62.000   \n",
      "1028     2017-01-01 06:00           122          5          2.300   \n",
      "1178     2017-01-01 07:00           122          5          2.000   \n",
      "1193     2017-01-01 07:00           124          9         52.000   \n",
      "1217     2017-01-01 08:00           103          9         69.000   \n",
      "1367     2017-01-01 09:00           103          9         74.000   \n",
      "1445     2017-01-01 09:00           116          9         61.000   \n",
      "1859     2017-01-01 12:00           110          9         83.000   \n",
      "2018     2017-01-01 13:00           112          5          0.100   \n",
      "2168     2017-01-01 14:00           112          5          0.100   \n",
      "2216     2017-01-01 14:00           120          5          0.100   \n",
      "2318     2017-01-01 15:00           112          5          0.100   \n",
      "2468     2017-01-01 16:00           112          5          0.100   \n",
      "2795     2017-01-01 18:00           116          9         48.000   \n",
      "3522     2017-01-01 23:00           113          1         -1.000   \n",
      "3523     2017-01-01 23:00           113          3         -1.000   \n",
      "3524     2017-01-01 23:00           113          5         -1.000   \n",
      "3525     2017-01-01 23:00           113          6         -1.000   \n",
      "3526     2017-01-01 23:00           113          8         -1.000   \n",
      "3527     2017-01-01 23:00           113          9         -1.000   \n",
      "3608     2017-01-02 00:00           102          5          0.100   \n",
      "4268     2017-01-02 04:00           112          5          0.100   \n",
      "4492     2017-01-02 05:00           124          8         60.000   \n",
      "4792     2017-01-02 07:00           124          8         52.000   \n",
      "4818     2017-01-02 08:00           104          1          0.000   \n",
      "4819     2017-01-02 08:00           104          3          0.000   \n",
      "4820     2017-01-02 08:00           104          5          0.000   \n",
      "4821     2017-01-02 08:00           104          6          0.000   \n",
      "4822     2017-01-02 08:00           104          8          0.000   \n",
      "...                   ...           ...        ...            ...   \n",
      "3882223  2019-12-31 05:00           103          8         39.000   \n",
      "3882377  2019-12-31 06:00           103          8         34.000   \n",
      "3882604  2019-12-31 07:00           103          8         28.000   \n",
      "3882693  2019-12-31 08:00           103          8         49.000   \n",
      "3882917  2019-12-31 09:00           103          8         50.000   \n",
      "3882975  2019-12-31 10:00           103          8         85.000   \n",
      "3882984  2019-12-31 10:00           103          9         20.000   \n",
      "3883028  2019-12-31 10:00           116          6          0.028   \n",
      "3883035  2019-12-31 10:00           116          1          0.003   \n",
      "3883049  2019-12-31 10:00           116          8         19.000   \n",
      "3883077  2019-12-31 10:00           106          9         19.000   \n",
      "3883082  2019-12-31 10:00           116          3          0.013   \n",
      "3883091  2019-12-31 10:00           116          9         10.000   \n",
      "3883094  2019-12-31 10:00           116          5          0.300   \n",
      "3883125  2019-12-31 11:00           116          9          7.000   \n",
      "3883129  2019-12-31 11:00           116          5          0.300   \n",
      "3883146  2019-12-31 11:00           103          8         58.000   \n",
      "3883162  2019-12-31 11:00           116          1          0.003   \n",
      "3883179  2019-12-31 11:00           116          3          0.008   \n",
      "3883195  2019-12-31 11:00           116          6          0.026   \n",
      "3883235  2019-12-31 11:00           116          8         17.000   \n",
      "3883264  2019-12-31 11:00           106          9         21.000   \n",
      "3883269  2019-12-31 12:00           106          9         24.000   \n",
      "3883325  2019-12-31 12:00           103          8         -1.000   \n",
      "3883401  2019-12-31 12:00           103          9         15.000   \n",
      "3883450  2019-12-31 13:00           103          8          0.000   \n",
      "3883534  2019-12-31 13:00           103          9          1.000   \n",
      "3883647  2019-12-31 14:00           120          9         20.000   \n",
      "3883700  2019-12-31 14:00           120          8         33.000   \n",
      "3884910  2019-12-31 22:00           118          9         28.000   \n",
      "\n",
      "         Instrument status  \n",
      "668                      9  \n",
      "809                      9  \n",
      "1028                     9  \n",
      "1178                     9  \n",
      "1193                     9  \n",
      "1217                     9  \n",
      "1367                     9  \n",
      "1445                     9  \n",
      "1859                     9  \n",
      "2018                     9  \n",
      "2168                     9  \n",
      "2216                     9  \n",
      "2318                     9  \n",
      "2468                     9  \n",
      "2795                     9  \n",
      "3522                     4  \n",
      "3523                     4  \n",
      "3524                     4  \n",
      "3525                     4  \n",
      "3526                     4  \n",
      "3527                     4  \n",
      "3608                     9  \n",
      "4268                     9  \n",
      "4492                     9  \n",
      "4792                     9  \n",
      "4818                     4  \n",
      "4819                     4  \n",
      "4820                     4  \n",
      "4821                     4  \n",
      "4822                     4  \n",
      "...                    ...  \n",
      "3882223                  2  \n",
      "3882377                  2  \n",
      "3882604                  2  \n",
      "3882693                  2  \n",
      "3882917                  2  \n",
      "3882975                  2  \n",
      "3882984                  9  \n",
      "3883028                  1  \n",
      "3883035                  1  \n",
      "3883049                  1  \n",
      "3883077                  9  \n",
      "3883082                  1  \n",
      "3883091                  1  \n",
      "3883094                  1  \n",
      "3883125                  1  \n",
      "3883129                  1  \n",
      "3883146                  1  \n",
      "3883162                  1  \n",
      "3883179                  1  \n",
      "3883195                  1  \n",
      "3883235                  1  \n",
      "3883264                  9  \n",
      "3883269                  9  \n",
      "3883325                  1  \n",
      "3883401                  1  \n",
      "3883450                  1  \n",
      "3883534                  1  \n",
      "3883647                  9  \n",
      "3883700                  9  \n",
      "3884910                  9  \n",
      "\n",
      "[109288 rows x 5 columns]\n"
     ]
    }
   ],
   "source": [
    "print(station_status[station_status[\"Instrument status\"]!=0])"
   ]
  },
  {
   "cell_type": "code",
   "execution_count": 22,
   "metadata": {},
   "outputs": [
    {
     "data": {
      "image/png": "[encoded data removed]",
      "text/plain": [
       "<Figure size 432x288 with 1 Axes>"
      ]
     },
     "metadata": {},
     "output_type": "display_data"
    }
   ],
   "source": [
    "plt.hist(station_status[\"Instrument status\"])\n",
    "plt.show()"
   ]
  },
  {
   "cell_type": "code",
   "execution_count": 24,
   "metadata": {},
   "outputs": [
    {
     "name": "stdout",
     "output_type": "stream",
     "text": [
      "[6256.0, 995.0, 995.0, 985.0, 985.0, 985.0, 985.0, 985.0, 985.0, 985.0]\n",
      "[-1.0, -1.0, -1.0, -1.0, -1.0, -1.0, -1.0, -1.0, -1.0, -1.0]\n"
     ]
    }
   ],
   "source": [
    "print(sorted(file_pandas[\"PM2.5\"], reverse=True)[:10])\n",
    "print(sorted(file_pandas[\"PM2.5\"], reverse=True)[-10:])"
   ]
  },
  {
   "cell_type": "code",
   "execution_count": 26,
   "metadata": {},
   "outputs": [
    {
     "name": "stdout",
     "output_type": "stream",
     "text": [
      "SO2:  [3.736, 2.7, 2.7, 1.33, 0.406, 0.37799999999999995, 0.3720000000000001, 0.37, 0.365, 0.35]\n",
      "NO2:  [38.445, 37.5, 30.7, 20.1, 12.805, 0.31, 0.248, 0.235, 0.14400000000000002, 0.135]\n",
      "O3:  [33.6, 23.4, 12.455, 6.32, 5.2970000000000015, 1.901, 1.8259999999999998, 1.3459999999999999, 1.254, 1.147]\n",
      "CO:  [71.7, 69.1, 59.3, 47.2, 40.0, 38.4, 37.5, 36.8, 36.7, 33.4]\n",
      "PM10:  [3586.0, 3577.0, 3568.0, 3561.0, 3556.0, 3552.0, 3545.0, 3540.0, 3533.0, 3527.0]\n"
     ]
    }
   ],
   "source": [
    "print(\"SO2: \",sorted(file_pandas[\"SO2\"], reverse=True)[:10])\n",
    "print(\"NO2: \",sorted(file_pandas[\"NO2\"], reverse=True)[:10])\n",
    "print(\"O3: \",sorted(file_pandas[\"O3\"], reverse=True)[:10])\n",
    "print(\"CO: \",sorted(file_pandas[\"CO\"], reverse=True)[:10])\n",
    "print(\"PM10: \",sorted(file_pandas[\"PM10\"], reverse=True)[:10])"
   ]
  },
  {
   "cell_type": "markdown",
   "metadata": {},
   "source": [
    "<font face=\"微软雅黑\" size=5  > 3.1 Selecting Data\n",
    "<font face=\"微软雅黑\" size=5  > Discard unnecessary variables"
   ]
  },
  {
   "cell_type": "code",
   "execution_count": 4,
   "metadata": {},
   "outputs": [
    {
     "data": {
      "text/plain": [
       "['Measurement date', 'Station code', 'SO2', 'NO2', 'O3', 'CO', 'PM10', 'PM2.5']"
      ]
     },
     "execution_count": 4,
     "metadata": {},
     "output_type": "execute_result"
    }
   ],
   "source": [
    "fileColumn = file.drop('Address','Latitude','Longitude')\n",
    "fileColumn.columns"
   ]
  },
  {
   "cell_type": "code",
   "execution_count": 2,
   "metadata": {},
   "outputs": [],
   "source": [
    "filepandas=pandas.read_csv(\"Measurement_summary.csv\")\n",
    "cols=[col for col in filepandas.columns if col not in [\"Address\",\n",
    "                                                 \"Latitude\",\"Longitude\"]]\n",
    "filepandas=filepandas[cols]"
   ]
  },
  {
   "cell_type": "markdown",
   "metadata": {},
   "source": [
    "<font face=\"微软雅黑\" size=5  >3.2 Cleaning Data\n",
    "<font face=\"微软雅黑\" size=4  >3.2.1 Processing of SO2 problem data"
   ]
  },
  {
   "cell_type": "code",
   "execution_count": 3,
   "metadata": {},
   "outputs": [
    {
     "data": {
      "image/png": "[encoded data removed]",
      "text/plain": [
       "<Figure size 432x288 with 1 Axes>"
      ]
     },
     "metadata": {},
     "output_type": "display_data"
    }
   ],
   "source": [
    "plt.scatter(filepandas[\"SO2\"], filepandas[\"SO2\"], marker='o')\n",
    "plt.show()"
   ]
  },
  {
   "cell_type": "code",
   "execution_count": 3,
   "metadata": {},
   "outputs": [
    {
     "name": "stdout",
     "output_type": "stream",
     "text": [
      "SO2 data sorting in descending order: [3.736, 2.7, 2.7, 1.33, 0.406, 0.37799999999999995, 0.3720000000000001, 0.37, 0.365, 0.35]\n"
     ]
    }
   ],
   "source": [
    "print(\"SO2 data sorting in descending order:\",sorted(filepandas[\"SO2\"], reverse=True)[:10])"
   ]
  },
  {
   "cell_type": "code",
   "execution_count": 4,
   "metadata": {},
   "outputs": [
    {
     "name": "stdout",
     "output_type": "stream",
     "text": [
      "The number of rows and columns of the data set: (647511, 8)\n",
      "        Measurement date  Station code    SO2     NO2      O3   CO  PM10  \\\n",
      "424685  2018-03-05 09:00           117  2.700  30.700  23.400  0.4   5.0   \n",
      "424686  2018-03-05 10:00           117  2.700  20.100  33.600  0.3   8.0   \n",
      "424709  2018-03-06 09:00           117  3.736  38.445  12.455  0.4  35.0   \n",
      "424710  2018-03-06 10:00           117  1.330  12.805   6.320  0.5  34.0   \n",
      "\n",
      "        PM2.5  \n",
      "424685    6.0  \n",
      "424686    1.0  \n",
      "424709   17.0  \n",
      "424710   15.0  \n"
     ]
    }
   ],
   "source": [
    "print(\"The number of rows and columns of the data set:\",filepandas.shape)\n",
    "print(filepandas[filepandas['SO2'].isin([3.736, 2.7, 2.7, 1.33])])"
   ]
  },
  {
   "cell_type": "code",
   "execution_count": 5,
   "metadata": {},
   "outputs": [
    {
     "name": "stdout",
     "output_type": "stream",
     "text": [
      "New SO2 data sorting in descending order: [0.406, 0.37799999999999995, 0.3720000000000001, 0.37, 0.365, 0.35, 0.342, 0.342, 0.332, 0.312]\n",
      "The number of rows and columns of the data set: (647507, 8)\n"
     ]
    }
   ],
   "source": [
    "filepandas=filepandas.drop([424685,424686,424709,424710])\n",
    "print(\"New SO2 data sorting in descending order:\",sorted(filepandas[\"SO2\"], reverse=True)[:10])\n",
    "print(\"The number of rows and columns of the data set:\",filepandas.shape)"
   ]
  },
  {
   "cell_type": "markdown",
   "metadata": {},
   "source": [
    "<font face=\"微软雅黑\" size=4  >3.2.2 Processing of NO2 problem data"
   ]
  },
  {
   "cell_type": "code",
   "execution_count": 7,
   "metadata": {},
   "outputs": [
    {
     "data": {
      "image/png": "[encoded data removed]",
      "text/plain": [
       "<Figure size 432x288 with 1 Axes>"
      ]
     },
     "metadata": {},
     "output_type": "display_data"
    }
   ],
   "source": [
    "plt.scatter(filepandas[\"NO2\"], filepandas[\"NO2\"], marker='o')\n",
    "plt.show()"
   ]
  },
  {
   "cell_type": "code",
   "execution_count": 6,
   "metadata": {},
   "outputs": [
    {
     "name": "stdout",
     "output_type": "stream",
     "text": [
      "NO2 data sorting in descending order: [37.5, 0.31, 0.248, 0.235, 0.14400000000000002, 0.135, 0.12300000000000001, 0.122, 0.122, 0.122]\n"
     ]
    }
   ],
   "source": [
    "print(\"NO2 data sorting in descending order:\",sorted(filepandas[\"NO2\"], reverse=True)[:10])"
   ]
  },
  {
   "cell_type": "code",
   "execution_count": 7,
   "metadata": {},
   "outputs": [
    {
     "name": "stdout",
     "output_type": "stream",
     "text": [
      "The number of rows and columns of the data set: (647507, 8)\n",
      "        Measurement date  Station code  SO2   NO2   O3   CO  PM10  PM2.5\n",
      "424684  2018-03-05 08:00           117  0.0  37.5  0.0  0.0   0.0    0.0\n"
     ]
    }
   ],
   "source": [
    "print(\"The number of rows and columns of the data set:\",filepandas.shape)\n",
    "print(filepandas[filepandas['NO2'].isin([37.5])])"
   ]
  },
  {
   "cell_type": "code",
   "execution_count": 8,
   "metadata": {},
   "outputs": [
    {
     "name": "stdout",
     "output_type": "stream",
     "text": [
      "New NO2 data sorting in descending order: [0.31, 0.248, 0.235, 0.14400000000000002, 0.135, 0.12300000000000001, 0.122, 0.122, 0.122, 0.121]\n",
      "The number of rows and columns of the data set: (647506, 8)\n"
     ]
    }
   ],
   "source": [
    "filepandas=filepandas.drop([424684])\n",
    "print(\"New NO2 data sorting in descending order:\",sorted(filepandas[\"NO2\"], reverse=True)[:10])\n",
    "print(\"The number of rows and columns of the data set:\",filepandas.shape)"
   ]
  },
  {
   "cell_type": "markdown",
   "metadata": {},
   "source": [
    "<font face=\"微软雅黑\" size=4  >3.2.3 Processing of O3 problem data"
   ]
  },
  {
   "cell_type": "code",
   "execution_count": 11,
   "metadata": {},
   "outputs": [
    {
     "data": {
      "image/png": "[encoded data removed]",
      "text/plain": [
       "<Figure size 432x288 with 1 Axes>"
      ]
     },
     "metadata": {},
     "output_type": "display_data"
    }
   ],
   "source": [
    "plt.scatter(filepandas[\"O3\"], filepandas[\"O3\"], marker='o')\n",
    "plt.show()"
   ]
  },
  {
   "cell_type": "code",
   "execution_count": 9,
   "metadata": {},
   "outputs": [
    {
     "name": "stdout",
     "output_type": "stream",
     "text": [
      "O3 data sorting in descending order: [5.2970000000000015, 1.901, 1.8259999999999998, 1.3459999999999999, 1.254, 1.147, 1.0090000000000001, 0.6709999999999999, 0.614, 0.614]\n"
     ]
    }
   ],
   "source": [
    "print(\"O3 data sorting in descending order:\",sorted(filepandas[\"O3\"], reverse=True)[:10])"
   ]
  },
  {
   "cell_type": "code",
   "execution_count": 10,
   "metadata": {},
   "outputs": [
    {
     "name": "stdout",
     "output_type": "stream",
     "text": [
      "The number of rows and columns of the data set: (647506, 8)\n",
      "        Measurement date  Station code    SO2    NO2     O3   CO  PM10  PM2.5\n",
      "263389  2017-07-02 21:00           111  0.002  0.021  5.297  0.4  14.0    8.0\n"
     ]
    }
   ],
   "source": [
    "print(\"The number of rows and columns of the data set:\",filepandas.shape)\n",
    "print(filepandas[filepandas['O3'].isin([5.2970000000000015])])"
   ]
  },
  {
   "cell_type": "code",
   "execution_count": 11,
   "metadata": {},
   "outputs": [
    {
     "name": "stdout",
     "output_type": "stream",
     "text": [
      "New O3 data sorting in descending order: [1.901, 1.8259999999999998, 1.3459999999999999, 1.254, 1.147, 1.0090000000000001, 0.6709999999999999, 0.614, 0.614, 0.498]\n",
      "The number of rows and columns of the data set: (647505, 8)\n"
     ]
    }
   ],
   "source": [
    "filepandas=filepandas.drop([263389])\n",
    "print(\"New O3 data sorting in descending order:\",sorted(filepandas[\"O3\"], reverse=True)[:10])\n",
    "print(\"The number of rows and columns of the data set:\",filepandas.shape)"
   ]
  },
  {
   "cell_type": "markdown",
   "metadata": {},
   "source": [
    "<font face=\"微软雅黑\" size=4  >3.2.4 Processing of PM 2.5 problem data"
   ]
  },
  {
   "cell_type": "code",
   "execution_count": 15,
   "metadata": {},
   "outputs": [
    {
     "data": {
      "image/png": "[encoded data removed]",
      "text/plain": [
       "<Figure size 432x288 with 1 Axes>"
      ]
     },
     "metadata": {},
     "output_type": "display_data"
    }
   ],
   "source": [
    "plt.scatter(filepandas[\"PM2.5\"], filepandas[\"PM2.5\"], marker='o')\n",
    "plt.show()"
   ]
  },
  {
   "cell_type": "code",
   "execution_count": 12,
   "metadata": {},
   "outputs": [
    {
     "name": "stdout",
     "output_type": "stream",
     "text": [
      "New PM2.5 data sorting in descending order: [6256.0, 995.0, 995.0, 985.0, 985.0, 985.0, 985.0, 985.0, 985.0, 985.0]\n"
     ]
    }
   ],
   "source": [
    "print(\"New PM2.5 data sorting in descending order:\",sorted(filepandas[\"PM2.5\"], reverse=True)[:10])"
   ]
  },
  {
   "cell_type": "code",
   "execution_count": 13,
   "metadata": {},
   "outputs": [
    {
     "name": "stdout",
     "output_type": "stream",
     "text": [
      "The number of rows and columns of the data set: (647505, 8)\n",
      "       Measurement date  Station code    SO2    NO2     O3   CO  PM10   PM2.5\n",
      "62770  2018-04-02 16:00           103  0.004  0.018  0.048  0.3  68.0  6256.0\n"
     ]
    }
   ],
   "source": [
    "print(\"The number of rows and columns of the data set:\",filepandas.shape)\n",
    "print(filepandas[filepandas['PM2.5'].isin([6256])])"
   ]
  },
  {
   "cell_type": "code",
   "execution_count": 14,
   "metadata": {},
   "outputs": [
    {
     "name": "stdout",
     "output_type": "stream",
     "text": [
      "New PM2.5 data sorting in descending order: [995.0, 995.0, 985.0, 985.0, 985.0, 985.0, 985.0, 985.0, 985.0, 985.0]\n",
      "The number of rows and columns of the data set: (647504, 8)\n"
     ]
    }
   ],
   "source": [
    "filepandas=filepandas.drop(62770)\n",
    "print(\"New PM2.5 data sorting in descending order:\",sorted(filepandas[\"PM2.5\"], reverse=True)[:10])\n",
    "print(\"The number of rows and columns of the data set:\",filepandas.shape)"
   ]
  },
  {
   "cell_type": "markdown",
   "metadata": {},
   "source": [
    "<font face=\"微软雅黑\" size=4  >3.2.5 Clear missing data"
   ]
  },
  {
   "cell_type": "code",
   "execution_count": 15,
   "metadata": {},
   "outputs": [],
   "source": [
    "for i in filepandas.columns:\n",
    "    filepandas = filepandas.drop(filepandas[filepandas[i] ==0].index)\n",
    "    filepandas = filepandas.drop(filepandas[filepandas[i] ==-1].index)"
   ]
  },
  {
   "cell_type": "code",
   "execution_count": 16,
   "metadata": {},
   "outputs": [
    {
     "name": "stdout",
     "output_type": "stream",
     "text": [
      "Measurement date sorting in ascending order: ['2017-01-01 00:00', '2017-01-01 00:00', '2017-01-01 00:00', '2017-01-01 00:00', '2017-01-01 00:00', '2017-01-01 00:00', '2017-01-01 00:00', '2017-01-01 00:00', '2017-01-01 00:00', '2017-01-01 00:00']\n",
      "Station code sorting in ascending order: [101, 101, 101, 101, 101, 101, 101, 101, 101, 101]\n",
      "SO2 sorting in ascending order: [0.001, 0.001, 0.001, 0.001, 0.001, 0.001, 0.001, 0.001, 0.001, 0.001]\n",
      "NO2 sorting in ascending order: [0.001, 0.001, 0.001, 0.001, 0.001, 0.001, 0.001, 0.001, 0.001, 0.001]\n",
      "O3 sorting in ascending order: [0.001, 0.001, 0.001, 0.001, 0.001, 0.001, 0.001, 0.001, 0.001, 0.001]\n",
      "CO sorting in ascending order: [0.1, 0.1, 0.1, 0.1, 0.1, 0.1, 0.1, 0.1, 0.1, 0.1]\n",
      "PM10 sorting in ascending order: [1.0, 1.0, 1.0, 1.0, 1.0, 1.0, 1.0, 1.0, 1.0, 1.0]\n",
      "PM2.5 sorting in ascending order: [1.0, 1.0, 1.0, 1.0, 1.0, 1.0, 1.0, 1.0, 1.0, 1.0]\n"
     ]
    }
   ],
   "source": [
    "for i in filepandas.columns:\n",
    "    print(i,\"sorting in ascending order:\",sorted(filepandas[i])[:10])"
   ]
  },
  {
   "cell_type": "code",
   "execution_count": 17,
   "metadata": {},
   "outputs": [
    {
     "name": "stdout",
     "output_type": "stream",
     "text": [
      "The number of rows and columns of the data set: (632441, 8)\n"
     ]
    }
   ],
   "source": [
    "print(\"The number of rows and columns of the data set:\",filepandas.shape)"
   ]
  },
  {
   "cell_type": "markdown",
   "metadata": {},
   "source": [
    "<font face=\"微软雅黑\" size=5  >3.3 Constructing New Data"
   ]
  },
  {
   "cell_type": "code",
   "execution_count": 18,
   "metadata": {},
   "outputs": [
    {
     "name": "stdout",
     "output_type": "stream",
     "text": [
      "['Good(Blue)' 'Bad(Yellow)' 'Normal(Green)' 'Very bad(Red)']\n",
      "   Measurement date  Station code    SO2   SO2_state\n",
      "0  2017-01-01 00:00           101  0.004  Good(Blue)\n",
      "1  2017-01-01 01:00           101  0.004  Good(Blue) \n",
      "      Measurement date  Station code    SO2    SO2_state\n",
      "230  2017-01-10 14:00           101  0.051  Bad(Yellow)\n",
      "540  2017-01-23 12:00           101  0.106  Bad(Yellow) \n",
      "       Measurement date  Station code    SO2      SO2_state\n",
      "231   2017-01-10 15:00           101  0.029  Normal(Green)\n",
      "1117  2017-02-16 13:00           101  0.024  Normal(Green) \n",
      "        Measurement date  Station code    SO2      SO2_state\n",
      "15565  2018-10-11 13:00           101  0.372  Very bad(Red)\n",
      "15589  2018-10-12 13:00           101  0.406  Very bad(Red)\n"
     ]
    }
   ],
   "source": [
    "filepandas.loc[filepandas[\"SO2\"]<=0.02,'SO2_state'] = 'Good(Blue)'\n",
    "filepandas.loc[(filepandas[\"SO2\"]> 0.02 ) & (filepandas[\"SO2\"]<=0.05),'SO2_state'] = 'Normal(Green)'\n",
    "filepandas.loc[(filepandas[\"SO2\"]> 0.05 ) & (filepandas[\"SO2\"]<=0.15),'SO2_state'] = 'Bad(Yellow)'\n",
    "filepandas.loc[filepandas[\"SO2\"]>0.15,'SO2_state'] = 'Very bad(Red)'\n",
    "print(filepandas[\"SO2_state\"].unique())\n",
    "print(filepandas[filepandas[\"SO2_state\"]==\"Good(Blue)\"].head(2).loc[:,[\"Measurement date\",\"Station code\",\"SO2\",'SO2_state']],'\\n',\n",
    "      filepandas[filepandas[\"SO2_state\"]==\"Bad(Yellow)\"].head(2).loc[:,[\"Measurement date\",\"Station code\",\"SO2\",'SO2_state']],'\\n',\n",
    "      filepandas[filepandas[\"SO2_state\"]==\"Normal(Green)\"].head(2).loc[:,[\"Measurement date\",\"Station code\",\"SO2\",'SO2_state']],'\\n',\n",
    "      filepandas[filepandas[\"SO2_state\"]==\"Very bad(Red)\"].head(2).loc[:,[\"Measurement date\",\"Station code\",\"SO2\",'SO2_state']])"
   ]
  },
  {
   "cell_type": "code",
   "execution_count": 19,
   "metadata": {},
   "outputs": [
    {
     "name": "stdout",
     "output_type": "stream",
     "text": [
      "['Normal(Green)' 'Bad(Yellow)' 'Good(Blue)' 'Very bad(Red)']\n",
      "    Measurement date  Station code    NO2   NO2_state\n",
      "46  2017-01-02 22:00           101  0.028  Good(Blue)\n",
      "47  2017-01-02 23:00           101  0.019  Good(Blue) \n",
      "     Measurement date  Station code    NO2    NO2_state\n",
      "16  2017-01-01 16:00           101  0.063  Bad(Yellow)\n",
      "17  2017-01-01 17:00           101  0.063  Bad(Yellow) \n",
      "    Measurement date  Station code    NO2      NO2_state\n",
      "0  2017-01-01 00:00           101  0.059  Normal(Green)\n",
      "1  2017-01-01 01:00           101  0.058  Normal(Green) \n",
      "         Measurement date  Station code    NO2      NO2_state\n",
      "30138   2017-06-26 09:00           102  0.248  Very bad(Red)\n",
      "471862  2017-08-24 22:00           119  0.235  Very bad(Red)\n"
     ]
    }
   ],
   "source": [
    "filepandas.loc[filepandas[\"NO2\"]<=0.03,'NO2_state'] = 'Good(Blue)'\n",
    "filepandas.loc[(filepandas[\"NO2\"]> 0.03 ) & (filepandas[\"NO2\"]<=0.06),'NO2_state'] = 'Normal(Green)'\n",
    "filepandas.loc[(filepandas[\"NO2\"]> 0.06 ) & (filepandas[\"NO2\"]<=0.2),'NO2_state'] = 'Bad(Yellow)'\n",
    "filepandas.loc[filepandas[\"NO2\"]>0.2,'NO2_state'] = 'Very bad(Red)'\n",
    "print(filepandas[\"NO2_state\"].unique())\n",
    "print(filepandas[filepandas[\"NO2_state\"]==\"Good(Blue)\"].head(2).loc[:,[\"Measurement date\",\"Station code\",\"NO2\",'NO2_state']],'\\n',\n",
    "      filepandas[filepandas[\"NO2_state\"]==\"Bad(Yellow)\"].head(2).loc[:,[\"Measurement date\",\"Station code\",\"NO2\",'NO2_state']],'\\n',\n",
    "      filepandas[filepandas[\"NO2_state\"]==\"Normal(Green)\"].head(2).loc[:,[\"Measurement date\",\"Station code\",\"NO2\",'NO2_state']],'\\n',\n",
    "      filepandas[filepandas[\"NO2_state\"]==\"Very bad(Red)\"].head(2).loc[:,[\"Measurement date\",\"Station code\",\"NO2\",'NO2_state']])"
   ]
  },
  {
   "cell_type": "code",
   "execution_count": 20,
   "metadata": {},
   "outputs": [
    {
     "name": "stdout",
     "output_type": "stream",
     "text": [
      "['Good(Blue)' 'Normal(Green)' 'Bad(Yellow)' 'Very bad(Red)']\n",
      "   Measurement date  Station code   CO    CO_state\n",
      "0  2017-01-01 00:00           101  1.2  Good(Blue)\n",
      "1  2017-01-01 01:00           101  1.2  Good(Blue) \n",
      "       Measurement date  Station code    CO     CO_state\n",
      "540   2017-01-23 12:00           101  11.2  Bad(Yellow)\n",
      "1116  2017-02-16 12:00           101   9.9  Bad(Yellow) \n",
      "      Measurement date  Station code   CO       CO_state\n",
      "230  2017-01-10 14:00           101  6.0  Normal(Green)\n",
      "231  2017-01-10 15:00           101  2.9  Normal(Green) \n",
      "        Measurement date  Station code    CO       CO_state\n",
      "15565  2018-10-11 13:00           101  38.4  Very bad(Red)\n",
      "15589  2018-10-12 13:00           101  40.0  Very bad(Red)\n"
     ]
    }
   ],
   "source": [
    "filepandas.loc[filepandas[\"CO\"]<=2,'CO_state'] = 'Good(Blue)'\n",
    "filepandas.loc[(filepandas[\"CO\"]> 2 ) & (filepandas[\"CO\"]<=9),'CO_state'] = 'Normal(Green)'\n",
    "filepandas.loc[(filepandas[\"CO\"]> 9 ) & (filepandas[\"CO\"]<=15),'CO_state'] = 'Bad(Yellow)'\n",
    "filepandas.loc[filepandas[\"CO\"]>15,'CO_state'] = 'Very bad(Red)'\n",
    "print(filepandas[\"CO_state\"].unique())\n",
    "print(filepandas[filepandas[\"CO_state\"]==\"Good(Blue)\"].head(2).loc[:,[\"Measurement date\",\"Station code\",\"CO\",'CO_state']],'\\n',\n",
    "      filepandas[filepandas[\"CO_state\"]==\"Bad(Yellow)\"].head(2).loc[:,[\"Measurement date\",\"Station code\",\"CO\",'CO_state']],'\\n',\n",
    "      filepandas[filepandas[\"CO_state\"]==\"Normal(Green)\"].head(2).loc[:,[\"Measurement date\",\"Station code\",\"CO\",'CO_state']],'\\n',\n",
    "      filepandas[filepandas[\"CO_state\"]==\"Very bad(Red)\"].head(2).loc[:,[\"Measurement date\",\"Station code\",\"CO\",'CO_state']])"
   ]
  },
  {
   "cell_type": "code",
   "execution_count": 21,
   "metadata": {},
   "outputs": [
    {
     "name": "stdout",
     "output_type": "stream",
     "text": [
      "['Good(Blue)' 'Normal(Green)' 'Bad(Yellow)' 'Very bad(Red)']\n",
      "   Measurement date  Station code     O3    O3_state\n",
      "0  2017-01-01 00:00           101  0.002  Good(Blue)\n",
      "1  2017-01-01 01:00           101  0.002  Good(Blue) \n",
      "       Measurement date  Station code     O3     O3_state\n",
      "2868  2017-04-30 12:00           101  0.091  Bad(Yellow)\n",
      "2869  2017-04-30 13:00           101  0.093  Bad(Yellow) \n",
      "     Measurement date  Station code     O3       O3_state\n",
      "36  2017-01-02 12:00           101  0.031  Normal(Green)\n",
      "37  2017-01-02 13:00           101  0.034  Normal(Green) \n",
      "        Measurement date  Station code     O3       O3_state\n",
      "13599  2018-07-21 15:00           101  0.161  Very bad(Red)\n",
      "13671  2018-07-24 15:00           101  0.164  Very bad(Red)\n"
     ]
    }
   ],
   "source": [
    "filepandas.loc[filepandas[\"O3\"]<=0.03,'O3_state'] = 'Good(Blue)'\n",
    "filepandas.loc[(filepandas[\"O3\"]> 0.03 ) & (filepandas[\"O3\"]<=0.09),'O3_state'] = 'Normal(Green)'\n",
    "filepandas.loc[(filepandas[\"O3\"]> 0.09 ) & (filepandas[\"O3\"]<=0.15),'O3_state'] = 'Bad(Yellow)'\n",
    "filepandas.loc[filepandas[\"O3\"]>0.15,'O3_state'] = 'Very bad(Red)'\n",
    "print(filepandas[\"O3_state\"].unique())\n",
    "print(filepandas[filepandas[\"O3_state\"]==\"Good(Blue)\"].head(2).loc[:,[\"Measurement date\",\"Station code\",\"O3\",'O3_state']],'\\n',\n",
    "      filepandas[filepandas[\"O3_state\"]==\"Bad(Yellow)\"].head(2).loc[:,[\"Measurement date\",\"Station code\",\"O3\",'O3_state']],'\\n',\n",
    "      filepandas[filepandas[\"O3_state\"]==\"Normal(Green)\"].head(2).loc[:,[\"Measurement date\",\"Station code\",\"O3\",'O3_state']],'\\n',\n",
    "      filepandas[filepandas[\"O3_state\"]==\"Very bad(Red)\"].head(2).loc[:,[\"Measurement date\",\"Station code\",\"O3\",'O3_state']])"
   ]
  },
  {
   "cell_type": "code",
   "execution_count": 22,
   "metadata": {},
   "outputs": [
    {
     "name": "stdout",
     "output_type": "stream",
     "text": [
      "['Normal(Green)' 'Bad(Yellow)' 'Very bad(Red)' 'Good(Blue)']\n",
      "     Measurement date  Station code  PM10  PM10_state\n",
      "74   2017-01-04 02:00           101  29.0  Good(Blue)\n",
      "109  2017-01-05 13:00           101  19.0  Good(Blue) \n",
      "     Measurement date  Station code  PM10   PM10_state\n",
      "11  2017-01-01 11:00           101  83.0  Bad(Yellow)\n",
      "12  2017-01-01 12:00           101  93.0  Bad(Yellow) \n",
      "    Measurement date  Station code  PM10     PM10_state\n",
      "0  2017-01-01 00:00           101  73.0  Normal(Green)\n",
      "1  2017-01-01 01:00           101  71.0  Normal(Green) \n",
      "     Measurement date  Station code   PM10     PM10_state\n",
      "43  2017-01-02 19:00           101  160.0  Very bad(Red)\n",
      "44  2017-01-02 20:00           101  154.0  Very bad(Red)\n"
     ]
    }
   ],
   "source": [
    "filepandas.loc[filepandas[\"PM10\"]<=30,'PM10_state'] = 'Good(Blue)'\n",
    "filepandas.loc[(filepandas[\"PM10\"]> 30 ) & (filepandas[\"PM10\"]<=80),'PM10_state'] = 'Normal(Green)'\n",
    "filepandas.loc[(filepandas[\"PM10\"]> 80 ) & (filepandas[\"PM10\"]<=150),'PM10_state'] = 'Bad(Yellow)'\n",
    "filepandas.loc[filepandas[\"PM10\"]>150,'PM10_state'] = 'Very bad(Red)'\n",
    "print(filepandas[\"PM10_state\"].unique())\n",
    "print(filepandas[filepandas[\"PM10_state\"]==\"Good(Blue)\"].head(2).loc[:,[\"Measurement date\",\"Station code\",\"PM10\",'PM10_state']],'\\n',\n",
    "      filepandas[filepandas[\"PM10_state\"]==\"Bad(Yellow)\"].head(2).loc[:,[\"Measurement date\",\"Station code\",\"PM10\",'PM10_state']],'\\n',\n",
    "      filepandas[filepandas[\"PM10_state\"]==\"Normal(Green)\"].head(2).loc[:,[\"Measurement date\",\"Station code\",\"PM10\",'PM10_state']],'\\n',\n",
    "      filepandas[filepandas[\"PM10_state\"]==\"Very bad(Red)\"].head(2).loc[:,[\"Measurement date\",\"Station code\",\"PM10\",'PM10_state']])\n"
   ]
  },
  {
   "cell_type": "code",
   "execution_count": 23,
   "metadata": {},
   "outputs": [
    {
     "name": "stdout",
     "output_type": "stream",
     "text": [
      "['Bad(Yellow)' 'Very bad(Red)' 'Normal(Green)' 'Good(Blue)']\n",
      "     Measurement date  Station code  PM2.5 PM2.5_state\n",
      "109  2017-01-05 13:00           101   11.0  Good(Blue)\n",
      "110  2017-01-05 14:00           101    6.0  Good(Blue) \n",
      "    Measurement date  Station code  PM2.5  PM2.5_state\n",
      "0  2017-01-01 00:00           101   57.0  Bad(Yellow)\n",
      "1  2017-01-01 01:00           101   59.0  Bad(Yellow) \n",
      "     Measurement date  Station code  PM2.5    PM2.5_state\n",
      "64  2017-01-03 16:00           101   32.0  Normal(Green)\n",
      "65  2017-01-03 17:00           101   25.0  Normal(Green) \n",
      "     Measurement date  Station code  PM2.5    PM2.5_state\n",
      "12  2017-01-01 12:00           101   79.0  Very bad(Red)\n",
      "13  2017-01-01 13:00           101   79.0  Very bad(Red)\n"
     ]
    }
   ],
   "source": [
    "filepandas.loc[filepandas[\"PM2.5\"]<=15,'PM2.5_state'] = 'Good(Blue)'\n",
    "filepandas.loc[(filepandas[\"PM2.5\"]> 15 ) & (filepandas[\"PM2.5\"]<=35),'PM2.5_state'] = 'Normal(Green)'\n",
    "filepandas.loc[(filepandas[\"PM2.5\"]> 35 ) & (filepandas[\"PM2.5\"]<=75),'PM2.5_state'] = 'Bad(Yellow)'\n",
    "filepandas.loc[filepandas[\"PM2.5\"]>75,'PM2.5_state'] = 'Very bad(Red)'\n",
    "print(filepandas[\"PM2.5_state\"].unique())\n",
    "print(filepandas[filepandas[\"PM2.5_state\"]==\"Good(Blue)\"].head(2).loc[:,[\"Measurement date\",\"Station code\",\"PM2.5\",'PM2.5_state']],'\\n',\n",
    "      filepandas[filepandas[\"PM2.5_state\"]==\"Bad(Yellow)\"].head(2).loc[:,[\"Measurement date\",\"Station code\",\"PM2.5\",'PM2.5_state']],'\\n',\n",
    "      filepandas[filepandas[\"PM2.5_state\"]==\"Normal(Green)\"].head(2).loc[:,[\"Measurement date\",\"Station code\",\"PM2.5\",'PM2.5_state']],'\\n',\n",
    "      filepandas[filepandas[\"PM2.5_state\"]==\"Very bad(Red)\"].head(2).loc[:,[\"Measurement date\",\"Station code\",\"PM2.5\",'PM2.5_state']])\n"
   ]
  },
  {
   "cell_type": "markdown",
   "metadata": {},
   "source": [
    "<font face=\"微软雅黑\" size=4  >3.4 Data Integration"
   ]
  },
  {
   "cell_type": "code",
   "execution_count": 24,
   "metadata": {},
   "outputs": [
    {
     "name": "stdout",
     "output_type": "stream",
     "text": [
      "    Station code Station name(district)  \\\n",
      "0            101              Jongno-gu   \n",
      "1            102                Jung-gu   \n",
      "2            103             Yongsan-gu   \n",
      "3            104           Eunpyeong-gu   \n",
      "4            105           Seodaemun-gu   \n",
      "5            106                Mapo-gu   \n",
      "6            107           Seongdong-gu   \n",
      "7            108            Gwangjin-gu   \n",
      "8            109          Dongdaemun-gu   \n",
      "9            110            Jungnang-gu   \n",
      "10           111            Seongbuk-gu   \n",
      "11           112             Gangbuk-gu   \n",
      "12           113              Dobong-gu   \n",
      "13           114               Nowon-gu   \n",
      "14           115           Yangcheon-gu   \n",
      "15           116             Gangseo-gu   \n",
      "16           117                Guro-gu   \n",
      "17           118           Geumcheon-gu   \n",
      "18           119        Yeongdeungpo-gu   \n",
      "19           120             Dongjak-gu   \n",
      "20           121              Gwanak-gu   \n",
      "21           122              Seocho-gu   \n",
      "22           123             Gangnam-gu   \n",
      "23           124              Songpa-gu   \n",
      "24           125            Gangdong-gu   \n",
      "\n",
      "                                              Address   Latitude   Longitude  \n",
      "0   19, Jong-ro 35ga-gil, Jongno-gu, Seoul, Republ...  37.572016  127.005008  \n",
      "1   15, Deoksugung-gil, Jung-gu, Seoul, Republic o...  37.564263  126.974676  \n",
      "2   136, Hannam-daero, Yongsan-gu, Seoul, Republic...  37.540033  127.004850  \n",
      "3   215, Jinheung-ro, Eunpyeong-gu, Seoul, Republi...  37.609823  126.934848  \n",
      "4   32, Segeomjeong-ro 4-gil, Seodaemun-gu, Seoul,...  37.593742  126.949679  \n",
      "5   10, Poeun-ro 6-gil, Mapo-gu, Seoul, Republic o...  37.555580  126.905597  \n",
      "6   18, Ttukseom-ro 3-gil, Seongdong-gu, Seoul, Re...  37.541864  127.049659  \n",
      "7   571, Gwangnaru-ro, Gwangjin-gu, Seoul, Republi...  37.547180  127.092493  \n",
      "8   43, Cheonho-daero 13-gil, Dongdaemun-gu, Seoul...  37.575743  127.028885  \n",
      "9   369, Yongmasan-ro, Jungnang-gu, Seoul, Republi...  37.584848  127.094023  \n",
      "10  70, Samyang-ro 2-gil, Seongbuk-gu, Seoul, Repu...  37.606719  127.027279  \n",
      "11  49, Samyang-ro 139-gil, Gangbuk-gu, Seoul, Rep...  37.647930  127.011952  \n",
      "12  34, Sirubong-ro 2-gil, Dobong-gu, Seoul, Repub...  37.654192  127.029088  \n",
      "13  17, Sanggye-ro 23-gil, Nowon-gu, Seoul, Republ...  37.658774  127.068505  \n",
      "14  56, Jungang-ro 52-gil, Yangcheon-gu, Seoul, Re...  37.525939  126.856603  \n",
      "15  71, Gangseo-ro 45da-gil, Gangseo-gu, Seoul, Re...  37.544640  126.835151  \n",
      "16  45, Gamasan-ro 27-gil, Guro-gu, Seoul, Republi...  37.498498  126.889692  \n",
      "17  20, Geumha-ro 21-gil, Geumcheon-gu, Seoul, Rep...  37.452357  126.908296  \n",
      "18  11, Yangsan-ro 23-gil, Yeongdeungpo-gu, Seoul,...  37.525007  126.897370  \n",
      "19  6, Sadang-ro 16a-gil, Dongjak-gu, Seoul, Repub...  37.480917  126.971481  \n",
      "20  14, Sillimdong-gil, Gwanak-gu, Seoul, Republic...  37.487355  126.927102  \n",
      "21  16, Sinbanpo-ro 15-gil, Seocho-gu, Seoul, Repu...  37.504547  126.994458  \n",
      "22  426, Hakdong-ro, Gangnam-gu, Seoul, Republic o...  37.517528  127.047470  \n",
      "23  236, Baekjegobun-ro, Songpa-gu, Seoul, Republi...  37.502686  127.092509  \n",
      "24  59, Gucheonmyeon-ro 42-gil, Gangdong-gu, Seoul...  37.544962  127.136792  \n"
     ]
    }
   ],
   "source": [
    "station_adress=pandas.read_csv(\"Measurement_station_info.csv\")\n",
    "print(station_adress)"
   ]
  },
  {
   "cell_type": "code",
   "execution_count": 25,
   "metadata": {},
   "outputs": [
    {
     "name": "stdout",
     "output_type": "stream",
     "text": [
      "['Jongno-gu' 'Jung-gu' 'Yongsan-gu' 'Eunpyeong-gu' 'Seodaemun-gu'\n",
      " 'Mapo-gu' 'Seongdong-gu' 'Gwangjin-gu' 'Dongdaemun-gu' 'Jungnang-gu'\n",
      " 'Seongbuk-gu' 'Gangbuk-gu' 'Dobong-gu' 'Nowon-gu' 'Yangcheon-gu'\n",
      " 'Gangseo-gu' 'Guro-gu' 'Geumcheon-gu' 'Yeongdeungpo-gu' 'Dongjak-gu'\n",
      " 'Gwanak-gu' 'Seocho-gu' 'Gangnam-gu' 'Songpa-gu' 'Gangdong-gu']\n"
     ]
    }
   ],
   "source": [
    "x=station_adress[\"Station code\"].unique()\n",
    "for i in x:\n",
    "    filepandas.loc[filepandas[\"Station code\"]== i ,'Station code'] = station_adress[station_adress[\"Station code\"]== i ].loc[:\n",
    "                                                                                                    ,\"Station name(district)\"].unique()\n",
    "print(filepandas[\"Station code\"].unique())"
   ]
  },
  {
   "cell_type": "code",
   "execution_count": 26,
   "metadata": {},
   "outputs": [
    {
     "name": "stdout",
     "output_type": "stream",
     "text": [
      "        Measurement date Station code    SO2    NO2     O3   CO  PM10  PM2.5  \\\n",
      "0       2017-01-01 00:00    Jongno-gu  0.004  0.059  0.002  1.2  73.0   57.0   \n",
      "1       2017-01-01 01:00    Jongno-gu  0.004  0.058  0.002  1.2  71.0   59.0   \n",
      "2       2017-01-01 02:00    Jongno-gu  0.004  0.056  0.002  1.2  70.0   59.0   \n",
      "3       2017-01-01 03:00    Jongno-gu  0.004  0.056  0.002  1.2  70.0   58.0   \n",
      "4       2017-01-01 04:00    Jongno-gu  0.003  0.051  0.002  1.2  69.0   61.0   \n",
      "5       2017-01-01 05:00    Jongno-gu  0.003  0.046  0.002  1.1  70.0   61.0   \n",
      "6       2017-01-01 06:00    Jongno-gu  0.003  0.049  0.002  1.1  66.0   57.0   \n",
      "7       2017-01-01 07:00    Jongno-gu  0.003  0.045  0.002  1.0  71.0   60.0   \n",
      "8       2017-01-01 08:00    Jongno-gu  0.004  0.047  0.002  1.1  72.0   60.0   \n",
      "9       2017-01-01 09:00    Jongno-gu  0.003  0.047  0.002  1.1  74.0   63.0   \n",
      "10      2017-01-01 10:00    Jongno-gu  0.004  0.045  0.004  1.0  76.0   68.0   \n",
      "11      2017-01-01 11:00    Jongno-gu  0.004  0.048  0.005  1.0  83.0   74.0   \n",
      "12      2017-01-01 12:00    Jongno-gu  0.004  0.054  0.005  1.0  93.0   79.0   \n",
      "13      2017-01-01 13:00    Jongno-gu  0.005  0.050  0.007  1.0  94.0   79.0   \n",
      "14      2017-01-01 14:00    Jongno-gu  0.006  0.055  0.008  0.9  93.0   78.0   \n",
      "15      2017-01-01 15:00    Jongno-gu  0.006  0.056  0.008  0.8  87.0   69.0   \n",
      "16      2017-01-01 16:00    Jongno-gu  0.006  0.063  0.004  0.9  87.0   69.0   \n",
      "17      2017-01-01 17:00    Jongno-gu  0.005  0.063  0.002  0.9  91.0   72.0   \n",
      "18      2017-01-01 18:00    Jongno-gu  0.005  0.063  0.002  1.0  91.0   69.0   \n",
      "19      2017-01-01 19:00    Jongno-gu  0.005  0.062  0.002  1.0  92.0   70.0   \n",
      "20      2017-01-01 20:00    Jongno-gu  0.004  0.056  0.002  0.9  94.0   74.0   \n",
      "21      2017-01-01 21:00    Jongno-gu  0.004  0.058  0.002  0.9  93.0   74.0   \n",
      "22      2017-01-01 22:00    Jongno-gu  0.004  0.058  0.002  1.0  89.0   73.0   \n",
      "23      2017-01-01 23:00    Jongno-gu  0.004  0.057  0.002  1.0  91.0   72.0   \n",
      "24      2017-01-02 00:00    Jongno-gu  0.004  0.057  0.002  1.1  93.0   72.0   \n",
      "25      2017-01-02 01:00    Jongno-gu  0.004  0.057  0.002  1.0  92.0   74.0   \n",
      "26      2017-01-02 02:00    Jongno-gu  0.004  0.055  0.002  1.0  90.0   73.0   \n",
      "27      2017-01-02 03:00    Jongno-gu  0.004  0.053  0.002  1.0  92.0   74.0   \n",
      "28      2017-01-02 04:00    Jongno-gu  0.004  0.052  0.002  1.1  92.0   76.0   \n",
      "29      2017-01-02 05:00    Jongno-gu  0.004  0.050  0.002  1.0  92.0   77.0   \n",
      "...                  ...          ...    ...    ...    ...  ...   ...    ...   \n",
      "647481  2019-12-30 18:00  Gangdong-gu  0.003  0.031  0.013  0.6  54.0   39.0   \n",
      "647482  2019-12-30 19:00  Gangdong-gu  0.003  0.022  0.018  0.5  47.0   34.0   \n",
      "647483  2019-12-30 20:00  Gangdong-gu  0.003  0.015  0.024  0.4  40.0   29.0   \n",
      "647484  2019-12-30 21:00  Gangdong-gu  0.003  0.014  0.024  0.4  35.0   25.0   \n",
      "647485  2019-12-30 22:00  Gangdong-gu  0.003  0.012  0.026  0.4  28.0   17.0   \n",
      "647486  2019-12-30 23:00  Gangdong-gu  0.003  0.012  0.024  0.4  30.0   17.0   \n",
      "647487  2019-12-31 00:00  Gangdong-gu  0.003  0.010  0.024  0.4  43.0   24.0   \n",
      "647488  2019-12-31 01:00  Gangdong-gu  0.003  0.009  0.025  0.4  36.0   23.0   \n",
      "647489  2019-12-31 02:00  Gangdong-gu  0.003  0.010  0.024  0.4  38.0   25.0   \n",
      "647490  2019-12-31 03:00  Gangdong-gu  0.003  0.010  0.023  0.4  43.0   29.0   \n",
      "647491  2019-12-31 04:00  Gangdong-gu  0.003  0.010  0.023  0.4  42.0   34.0   \n",
      "647492  2019-12-31 05:00  Gangdong-gu  0.003  0.011  0.023  0.4  31.0   24.0   \n",
      "647493  2019-12-31 06:00  Gangdong-gu  0.003  0.015  0.021  0.4  28.0   22.0   \n",
      "647494  2019-12-31 07:00  Gangdong-gu  0.002  0.018  0.019  0.4  25.0   19.0   \n",
      "647495  2019-12-31 08:00  Gangdong-gu  0.003  0.019  0.019  0.4  25.0   17.0   \n",
      "647496  2019-12-31 09:00  Gangdong-gu  0.003  0.017  0.020  0.4  20.0   13.0   \n",
      "647497  2019-12-31 10:00  Gangdong-gu  0.003  0.014  0.023  0.4  20.0   11.0   \n",
      "647498  2019-12-31 11:00  Gangdong-gu  0.002  0.014  0.023  0.4  18.0   13.0   \n",
      "647499  2019-12-31 12:00  Gangdong-gu  0.003  0.015  0.023  0.4  19.0   14.0   \n",
      "647500  2019-12-31 13:00  Gangdong-gu  0.003  0.015  0.023  0.4  22.0   15.0   \n",
      "647501  2019-12-31 14:00  Gangdong-gu  0.003  0.017  0.023  0.4  23.0   18.0   \n",
      "647502  2019-12-31 15:00  Gangdong-gu  0.002  0.020  0.021  0.4  24.0   18.0   \n",
      "647503  2019-12-31 16:00  Gangdong-gu  0.003  0.026  0.016  0.4  27.0   18.0   \n",
      "647504  2019-12-31 17:00  Gangdong-gu  0.003  0.031  0.012  0.4  27.0   19.0   \n",
      "647505  2019-12-31 18:00  Gangdong-gu  0.003  0.035  0.008  0.5  24.0   18.0   \n",
      "647506  2019-12-31 19:00  Gangdong-gu  0.003  0.028  0.013  0.5  23.0   17.0   \n",
      "647507  2019-12-31 20:00  Gangdong-gu  0.003  0.025  0.015  0.4  25.0   19.0   \n",
      "647508  2019-12-31 21:00  Gangdong-gu  0.003  0.023  0.015  0.4  24.0   17.0   \n",
      "647509  2019-12-31 22:00  Gangdong-gu  0.003  0.040  0.004  0.5  25.0   18.0   \n",
      "647510  2019-12-31 23:00  Gangdong-gu  0.003  0.037  0.005  0.5  27.0   18.0   \n",
      "\n",
      "         SO2_state      NO2_state    CO_state    O3_state     PM10_state  \\\n",
      "0       Good(Blue)  Normal(Green)  Good(Blue)  Good(Blue)  Normal(Green)   \n",
      "1       Good(Blue)  Normal(Green)  Good(Blue)  Good(Blue)  Normal(Green)   \n",
      "2       Good(Blue)  Normal(Green)  Good(Blue)  Good(Blue)  Normal(Green)   \n",
      "3       Good(Blue)  Normal(Green)  Good(Blue)  Good(Blue)  Normal(Green)   \n",
      "4       Good(Blue)  Normal(Green)  Good(Blue)  Good(Blue)  Normal(Green)   \n",
      "5       Good(Blue)  Normal(Green)  Good(Blue)  Good(Blue)  Normal(Green)   \n",
      "6       Good(Blue)  Normal(Green)  Good(Blue)  Good(Blue)  Normal(Green)   \n",
      "7       Good(Blue)  Normal(Green)  Good(Blue)  Good(Blue)  Normal(Green)   \n",
      "8       Good(Blue)  Normal(Green)  Good(Blue)  Good(Blue)  Normal(Green)   \n",
      "9       Good(Blue)  Normal(Green)  Good(Blue)  Good(Blue)  Normal(Green)   \n",
      "10      Good(Blue)  Normal(Green)  Good(Blue)  Good(Blue)  Normal(Green)   \n",
      "11      Good(Blue)  Normal(Green)  Good(Blue)  Good(Blue)    Bad(Yellow)   \n",
      "12      Good(Blue)  Normal(Green)  Good(Blue)  Good(Blue)    Bad(Yellow)   \n",
      "13      Good(Blue)  Normal(Green)  Good(Blue)  Good(Blue)    Bad(Yellow)   \n",
      "14      Good(Blue)  Normal(Green)  Good(Blue)  Good(Blue)    Bad(Yellow)   \n",
      "15      Good(Blue)  Normal(Green)  Good(Blue)  Good(Blue)    Bad(Yellow)   \n",
      "16      Good(Blue)    Bad(Yellow)  Good(Blue)  Good(Blue)    Bad(Yellow)   \n",
      "17      Good(Blue)    Bad(Yellow)  Good(Blue)  Good(Blue)    Bad(Yellow)   \n",
      "18      Good(Blue)    Bad(Yellow)  Good(Blue)  Good(Blue)    Bad(Yellow)   \n",
      "19      Good(Blue)    Bad(Yellow)  Good(Blue)  Good(Blue)    Bad(Yellow)   \n",
      "20      Good(Blue)  Normal(Green)  Good(Blue)  Good(Blue)    Bad(Yellow)   \n",
      "21      Good(Blue)  Normal(Green)  Good(Blue)  Good(Blue)    Bad(Yellow)   \n",
      "22      Good(Blue)  Normal(Green)  Good(Blue)  Good(Blue)    Bad(Yellow)   \n",
      "23      Good(Blue)  Normal(Green)  Good(Blue)  Good(Blue)    Bad(Yellow)   \n",
      "24      Good(Blue)  Normal(Green)  Good(Blue)  Good(Blue)    Bad(Yellow)   \n",
      "25      Good(Blue)  Normal(Green)  Good(Blue)  Good(Blue)    Bad(Yellow)   \n",
      "26      Good(Blue)  Normal(Green)  Good(Blue)  Good(Blue)    Bad(Yellow)   \n",
      "27      Good(Blue)  Normal(Green)  Good(Blue)  Good(Blue)    Bad(Yellow)   \n",
      "28      Good(Blue)  Normal(Green)  Good(Blue)  Good(Blue)    Bad(Yellow)   \n",
      "29      Good(Blue)  Normal(Green)  Good(Blue)  Good(Blue)    Bad(Yellow)   \n",
      "...            ...            ...         ...         ...            ...   \n",
      "647481  Good(Blue)  Normal(Green)  Good(Blue)  Good(Blue)  Normal(Green)   \n",
      "647482  Good(Blue)     Good(Blue)  Good(Blue)  Good(Blue)  Normal(Green)   \n",
      "647483  Good(Blue)     Good(Blue)  Good(Blue)  Good(Blue)  Normal(Green)   \n",
      "647484  Good(Blue)     Good(Blue)  Good(Blue)  Good(Blue)  Normal(Green)   \n",
      "647485  Good(Blue)     Good(Blue)  Good(Blue)  Good(Blue)     Good(Blue)   \n",
      "647486  Good(Blue)     Good(Blue)  Good(Blue)  Good(Blue)     Good(Blue)   \n",
      "647487  Good(Blue)     Good(Blue)  Good(Blue)  Good(Blue)  Normal(Green)   \n",
      "647488  Good(Blue)     Good(Blue)  Good(Blue)  Good(Blue)  Normal(Green)   \n",
      "647489  Good(Blue)     Good(Blue)  Good(Blue)  Good(Blue)  Normal(Green)   \n",
      "647490  Good(Blue)     Good(Blue)  Good(Blue)  Good(Blue)  Normal(Green)   \n",
      "647491  Good(Blue)     Good(Blue)  Good(Blue)  Good(Blue)  Normal(Green)   \n",
      "647492  Good(Blue)     Good(Blue)  Good(Blue)  Good(Blue)  Normal(Green)   \n",
      "647493  Good(Blue)     Good(Blue)  Good(Blue)  Good(Blue)     Good(Blue)   \n",
      "647494  Good(Blue)     Good(Blue)  Good(Blue)  Good(Blue)     Good(Blue)   \n",
      "647495  Good(Blue)     Good(Blue)  Good(Blue)  Good(Blue)     Good(Blue)   \n",
      "647496  Good(Blue)     Good(Blue)  Good(Blue)  Good(Blue)     Good(Blue)   \n",
      "647497  Good(Blue)     Good(Blue)  Good(Blue)  Good(Blue)     Good(Blue)   \n",
      "647498  Good(Blue)     Good(Blue)  Good(Blue)  Good(Blue)     Good(Blue)   \n",
      "647499  Good(Blue)     Good(Blue)  Good(Blue)  Good(Blue)     Good(Blue)   \n",
      "647500  Good(Blue)     Good(Blue)  Good(Blue)  Good(Blue)     Good(Blue)   \n",
      "647501  Good(Blue)     Good(Blue)  Good(Blue)  Good(Blue)     Good(Blue)   \n",
      "647502  Good(Blue)     Good(Blue)  Good(Blue)  Good(Blue)     Good(Blue)   \n",
      "647503  Good(Blue)     Good(Blue)  Good(Blue)  Good(Blue)     Good(Blue)   \n",
      "647504  Good(Blue)  Normal(Green)  Good(Blue)  Good(Blue)     Good(Blue)   \n",
      "647505  Good(Blue)  Normal(Green)  Good(Blue)  Good(Blue)     Good(Blue)   \n",
      "647506  Good(Blue)     Good(Blue)  Good(Blue)  Good(Blue)     Good(Blue)   \n",
      "647507  Good(Blue)     Good(Blue)  Good(Blue)  Good(Blue)     Good(Blue)   \n",
      "647508  Good(Blue)     Good(Blue)  Good(Blue)  Good(Blue)     Good(Blue)   \n",
      "647509  Good(Blue)  Normal(Green)  Good(Blue)  Good(Blue)     Good(Blue)   \n",
      "647510  Good(Blue)  Normal(Green)  Good(Blue)  Good(Blue)     Good(Blue)   \n",
      "\n",
      "          PM2.5_state  \n",
      "0         Bad(Yellow)  \n",
      "1         Bad(Yellow)  \n",
      "2         Bad(Yellow)  \n",
      "3         Bad(Yellow)  \n",
      "4         Bad(Yellow)  \n",
      "5         Bad(Yellow)  \n",
      "6         Bad(Yellow)  \n",
      "7         Bad(Yellow)  \n",
      "8         Bad(Yellow)  \n",
      "9         Bad(Yellow)  \n",
      "10        Bad(Yellow)  \n",
      "11        Bad(Yellow)  \n",
      "12      Very bad(Red)  \n",
      "13      Very bad(Red)  \n",
      "14      Very bad(Red)  \n",
      "15        Bad(Yellow)  \n",
      "16        Bad(Yellow)  \n",
      "17        Bad(Yellow)  \n",
      "18        Bad(Yellow)  \n",
      "19        Bad(Yellow)  \n",
      "20        Bad(Yellow)  \n",
      "21        Bad(Yellow)  \n",
      "22        Bad(Yellow)  \n",
      "23        Bad(Yellow)  \n",
      "24        Bad(Yellow)  \n",
      "25        Bad(Yellow)  \n",
      "26        Bad(Yellow)  \n",
      "27        Bad(Yellow)  \n",
      "28      Very bad(Red)  \n",
      "29      Very bad(Red)  \n",
      "...               ...  \n",
      "647481    Bad(Yellow)  \n",
      "647482  Normal(Green)  \n",
      "647483  Normal(Green)  \n",
      "647484  Normal(Green)  \n",
      "647485  Normal(Green)  \n",
      "647486  Normal(Green)  \n",
      "647487  Normal(Green)  \n",
      "647488  Normal(Green)  \n",
      "647489  Normal(Green)  \n",
      "647490  Normal(Green)  \n",
      "647491  Normal(Green)  \n",
      "647492  Normal(Green)  \n",
      "647493  Normal(Green)  \n",
      "647494  Normal(Green)  \n",
      "647495  Normal(Green)  \n",
      "647496     Good(Blue)  \n",
      "647497     Good(Blue)  \n",
      "647498     Good(Blue)  \n",
      "647499     Good(Blue)  \n",
      "647500     Good(Blue)  \n",
      "647501  Normal(Green)  \n",
      "647502  Normal(Green)  \n",
      "647503  Normal(Green)  \n",
      "647504  Normal(Green)  \n",
      "647505  Normal(Green)  \n",
      "647506  Normal(Green)  \n",
      "647507  Normal(Green)  \n",
      "647508  Normal(Green)  \n",
      "647509  Normal(Green)  \n",
      "647510  Normal(Green)  \n",
      "\n",
      "[632441 rows x 14 columns]\n"
     ]
    }
   ],
   "source": [
    "print(filepandas)"
   ]
  },
  {
   "cell_type": "markdown",
   "metadata": {},
   "source": [
    "<font face=\"微软雅黑\" size=4  >3.5 Formatting Data"
   ]
  },
  {
   "cell_type": "code",
   "execution_count": 27,
   "metadata": {},
   "outputs": [],
   "source": [
    "#filepandas.to_csv(\"filepandas.csv\")"
   ]
  },
  {
   "cell_type": "code",
   "execution_count": 28,
   "metadata": {},
   "outputs": [
    {
     "name": "stdout",
     "output_type": "stream",
     "text": [
      "Measurement date     object\n",
      "Station code         object\n",
      "SO2                 float64\n",
      "NO2                 float64\n",
      "O3                  float64\n",
      "CO                  float64\n",
      "PM10                float64\n",
      "PM2.5               float64\n",
      "SO2_state            object\n",
      "NO2_state            object\n",
      "CO_state             object\n",
      "O3_state             object\n",
      "PM10_state           object\n",
      "PM2.5_state          object\n",
      "dtype: object\n"
     ]
    }
   ],
   "source": [
    "print(filepandas.dtypes)"
   ]
  },
  {
   "cell_type": "code",
   "execution_count": 30,
   "metadata": {},
   "outputs": [],
   "source": [
    "from sklearn import preprocessing\n",
    "#create the LabelEncoder object\n",
    "le=preprocessing.LabelEncoder()\n",
    "filepandas[\"Measurement date\"] = le.fit_transform(filepandas[\"Measurement date\"])\n",
    "filepandas[\"SO2_state\"] = le.fit_transform(filepandas[\"SO2_state\"])\n",
    "filepandas[\"NO2_state\"] = le.fit_transform(filepandas[\"NO2_state\"])\n",
    "filepandas[\"O3_state\"] = le.fit_transform(filepandas[\"O3_state\"])\n",
    "filepandas[\"CO_state\"] = le.fit_transform(filepandas[\"CO_state\"])\n",
    "filepandas[\"PM10_state\"] = le.fit_transform(filepandas[\"PM10_state\"])\n",
    "filepandas[\"PM2.5_state\"] = le.fit_transform(filepandas[\"PM2.5_state\"])"
   ]
  },
  {
   "cell_type": "code",
   "execution_count": 42,
   "metadata": {},
   "outputs": [
    {
     "name": "stdout",
     "output_type": "stream",
     "text": [
      "Measurement date      int64\n",
      "Station code         object\n",
      "SO2                 float64\n",
      "NO2                 float64\n",
      "O3                  float64\n",
      "CO                  float64\n",
      "PM10                float64\n",
      "PM2.5               float64\n",
      "SO2_state             int64\n",
      "NO2_state             int64\n",
      "CO_state              int64\n",
      "O3_state              int64\n",
      "PM10_state            int64\n",
      "PM2.5_state           int64\n",
      "dtype: object\n"
     ]
    }
   ],
   "source": [
    "print(filepandas.dtypes)"
   ]
  },
  {
   "cell_type": "markdown",
   "metadata": {},
   "source": [
    "<font face=\"微软雅黑\" size=4  >4.1 Data Reduction"
   ]
  },
  {
   "cell_type": "code",
   "execution_count": 31,
   "metadata": {},
   "outputs": [
    {
     "name": "stdout",
     "output_type": "stream",
     "text": [
      "Measurement date      int64\n",
      "Station code         object\n",
      "SO2                 float64\n",
      "NO2                 float64\n",
      "O3                  float64\n",
      "CO                  float64\n",
      "PM10                float64\n",
      "PM2.5               float64\n",
      "SO2_state             int64\n",
      "NO2_state             int64\n",
      "CO_state              int64\n",
      "O3_state              int64\n",
      "PM10_state            int64\n",
      "PM2.5_state           int64\n",
      "dtype: object\n"
     ]
    }
   ],
   "source": [
    "print(filepandas.dtypes)#Display variable type"
   ]
  },
  {
   "cell_type": "code",
   "execution_count": 32,
   "metadata": {},
   "outputs": [
    {
     "name": "stdout",
     "output_type": "stream",
     "text": [
      "Measurement date   -0.111892\n",
      "SO2                 1.000000\n",
      "NO2                 0.164374\n",
      "O3                  0.012853\n",
      "CO                  0.517643\n",
      "PM10                0.110733\n",
      "PM2.5               0.129431\n",
      "SO2_state           0.072012\n",
      "NO2_state           0.028340\n",
      "CO_state            0.351740\n",
      "O3_state           -0.016169\n",
      "PM10_state          0.047534\n",
      "PM2.5_state         0.002399\n",
      "Name: SO2, dtype: float64\n",
      "Measurement date   -0.067402\n",
      "SO2                 0.164374\n",
      "NO2                 1.000000\n",
      "O3                 -0.469912\n",
      "CO                  0.447352\n",
      "PM10                0.178359\n",
      "PM2.5               0.210129\n",
      "SO2_state           0.015719\n",
      "NO2_state           0.324867\n",
      "CO_state            0.008418\n",
      "O3_state           -0.359438\n",
      "PM10_state          0.106214\n",
      "PM2.5_state         0.000360\n",
      "Name: NO2, dtype: float64\n",
      "Measurement date   -0.041181\n",
      "SO2                 0.012853\n",
      "NO2                -0.469912\n",
      "O3                  1.000000\n",
      "CO                 -0.221007\n",
      "PM10                0.010548\n",
      "PM2.5              -0.003299\n",
      "SO2_state          -0.007546\n",
      "NO2_state          -0.236949\n",
      "CO_state            0.004238\n",
      "O3_state            0.658395\n",
      "PM10_state          0.011614\n",
      "PM2.5_state        -0.023335\n",
      "Name: O3, dtype: float64\n",
      "Measurement date   -0.011076\n",
      "SO2                 0.517643\n",
      "NO2                 0.447352\n",
      "O3                 -0.221007\n",
      "CO                  1.000000\n",
      "PM10                0.154101\n",
      "PM2.5               0.192970\n",
      "SO2_state           0.007151\n",
      "NO2_state           0.110716\n",
      "CO_state            0.361136\n",
      "O3_state           -0.167088\n",
      "PM10_state          0.051231\n",
      "PM2.5_state        -0.011755\n",
      "Name: CO, dtype: float64\n",
      "Measurement date   -0.024680\n",
      "SO2                 0.110733\n",
      "NO2                 0.178359\n",
      "O3                  0.010548\n",
      "CO                  0.154101\n",
      "PM10                1.000000\n",
      "PM2.5               0.226636\n",
      "SO2_state          -0.006454\n",
      "NO2_state           0.035901\n",
      "CO_state            0.025769\n",
      "O3_state            0.004741\n",
      "PM10_state          0.112152\n",
      "PM2.5_state        -0.003028\n",
      "Name: PM10, dtype: float64\n",
      "Measurement date   -0.004327\n",
      "SO2                 0.129431\n",
      "NO2                 0.210129\n",
      "O3                 -0.003299\n",
      "CO                  0.192970\n",
      "PM10                0.226636\n",
      "PM2.5               1.000000\n",
      "SO2_state          -0.018084\n",
      "NO2_state           0.041091\n",
      "CO_state            0.035099\n",
      "O3_state           -0.009364\n",
      "PM10_state          0.020167\n",
      "PM2.5_state         0.065532\n",
      "Name: PM2.5, dtype: float64\n"
     ]
    }
   ],
   "source": [
    "print(filepandas.corr()[\"SO2\"])\n",
    "print(filepandas.corr()[\"NO2\"])\n",
    "print(filepandas.corr()[\"O3\"])\n",
    "print(filepandas.corr()[\"CO\"])\n",
    "print(filepandas.corr()[\"PM10\"])\n",
    "print(filepandas.corr()[\"PM2.5\"])"
   ]
  },
  {
   "cell_type": "code",
   "execution_count": 33,
   "metadata": {},
   "outputs": [],
   "source": [
    "SO2_data=filepandas.loc[:,[\"Measurement date\",\"Station code\",\"SO2\",\"SO2_state\"]]\n",
    "NO2_data=filepandas.loc[:,[\"Measurement date\",\"Station code\",\"NO2\",\"NO2_state\"]]\n",
    "O3_data=filepandas.loc[:,[\"Measurement date\",\"Station code\",\"O3\",\"O3_state\"]]\n",
    "CO_data=filepandas.loc[:,[\"Measurement date\",\"Station code\",\"CO\",\"CO_state\"]]\n",
    "PM10_data=filepandas.loc[:,[\"Measurement date\",\"Station code\",\"PM10\",\"PM10_state\"]]\n",
    "PM25_data=filepandas.loc[:,[\"Measurement date\",\"Station code\",\"PM2.5\",\"PM2.5_state\"]]"
   ]
  },
  {
   "cell_type": "markdown",
   "metadata": {},
   "source": [
    "<font face=\"微软雅黑\" size=4  >4.2 Data Projection"
   ]
  },
  {
   "cell_type": "code",
   "execution_count": 34,
   "metadata": {},
   "outputs": [
    {
     "data": {
      "image/png": "[encoded data removed]",
      "text/plain": [
       "<Figure size 432x288 with 1 Axes>"
      ]
     },
     "metadata": {},
     "output_type": "display_data"
    }
   ],
   "source": [
    "SO2_data[\"SO2_log_return\"]=numpy.log(SO2_data[\"SO2\"])\n",
    "plt.hist(SO2_data[\"SO2_log_return\"])\n",
    "plt.show()"
   ]
  },
  {
   "cell_type": "code",
   "execution_count": 35,
   "metadata": {},
   "outputs": [
    {
     "data": {
      "image/png": "[encoded data removed]",
      "text/plain": [
       "<Figure size 432x288 with 1 Axes>"
      ]
     },
     "metadata": {},
     "output_type": "display_data"
    }
   ],
   "source": [
    "NO2_data[\"NO2_log_return\"]=numpy.log(NO2_data[\"NO2\"])\n",
    "plt.hist(NO2_data[\"NO2_log_return\"])\n",
    "plt.show()"
   ]
  },
  {
   "cell_type": "code",
   "execution_count": 36,
   "metadata": {},
   "outputs": [
    {
     "data": {
      "image/png": "[encoded data removed]",
      "text/plain": [
       "<Figure size 432x288 with 1 Axes>"
      ]
     },
     "metadata": {},
     "output_type": "display_data"
    }
   ],
   "source": [
    "O3_data[\"O3_log_return\"]=numpy.log(O3_data[\"O3\"])\n",
    "plt.hist(O3_data[\"O3_log_return\"])\n",
    "plt.show()"
   ]
  },
  {
   "cell_type": "code",
   "execution_count": 37,
   "metadata": {},
   "outputs": [
    {
     "data": {
      "image/png": "[encoded data removed]",
      "text/plain": [
       "<Figure size 432x288 with 1 Axes>"
      ]
     },
     "metadata": {},
     "output_type": "display_data"
    }
   ],
   "source": [
    "CO_data[\"CO_log_return\"]=numpy.log(CO_data[\"CO\"])\n",
    "plt.hist(CO_data[\"CO_log_return\"])\n",
    "plt.show()"
   ]
  },
  {
   "cell_type": "code",
   "execution_count": 38,
   "metadata": {},
   "outputs": [
    {
     "data": {
      "image/png": "[encoded data removed]",
      "text/plain": [
       "<Figure size 432x288 with 1 Axes>"
      ]
     },
     "metadata": {},
     "output_type": "display_data"
    }
   ],
   "source": [
    "PM10_data[\"PM10_log_return\"]=numpy.log(PM10_data[\"PM10\"])\n",
    "plt.hist(PM10_data[\"PM10_log_return\"])\n",
    "plt.show()"
   ]
  },
  {
   "cell_type": "code",
   "execution_count": 39,
   "metadata": {},
   "outputs": [
    {
     "data": {
      "image/png": "[encoded data removed]",
      "text/plain": [
       "<Figure size 432x288 with 1 Axes>"
      ]
     },
     "metadata": {},
     "output_type": "display_data"
    }
   ],
   "source": [
    "PM25_data[\"PM2.5_log_return\"]=numpy.log(PM25_data[\"PM2.5\"])\n",
    "plt.hist(PM25_data[\"PM2.5_log_return\"])\n",
    "plt.show()"
   ]
  },
  {
   "cell_type": "markdown",
   "metadata": {},
   "source": [
    "<font face=\"微软雅黑\" size=4  >6.2.1 Setting to avoid overfitting when building a numeric prediction model"
   ]
  },
  {
   "cell_type": "code",
   "execution_count": 40,
   "metadata": {},
   "outputs": [],
   "source": [
    "SO2_data.to_csv(\"SO2_data_new.csv\")\n",
    "NO2_data.to_csv(\"NO2_data_new.csv\")\n",
    "O3_data.to_csv(\"O3_data_new.csv\")\n",
    "CO_data.to_csv(\"CO_data_new.csv\")\n",
    "PM10_data.to_csv(\"PM10_data_new.csv\")\n",
    "PM25_data.to_csv(\"PM25_data_new.csv\")"
   ]
  },
  {
   "cell_type": "code",
   "execution_count": 41,
   "metadata": {},
   "outputs": [],
   "source": [
    "filepandas.to_csv(\"filepandas_new.csv\")"
   ]
  },
  {
   "cell_type": "code",
   "execution_count": 2,
   "metadata": {},
   "outputs": [],
   "source": [
    "SO2_file = spark.read.csv('./SO2_data_new.csv', header=True, inferSchema=True)"
   ]
  },
  {
   "cell_type": "code",
   "execution_count": 3,
   "metadata": {},
   "outputs": [
    {
     "name": "stdout",
     "output_type": "stream",
     "text": [
      "+---+----------------+------------+-----+---------+------------------+\n",
      "|_c0|Measurement date|Station code|  SO2|SO2_state|    SO2_log_return|\n",
      "+---+----------------+------------+-----+---------+------------------+\n",
      "|  0|               0|   Jongno-gu|0.004|        1|-5.521460917862246|\n",
      "|  1|               1|   Jongno-gu|0.004|        1|-5.521460917862246|\n",
      "|  2|               2|   Jongno-gu|0.004|        1|-5.521460917862246|\n",
      "|  3|               3|   Jongno-gu|0.004|        1|-5.521460917862246|\n",
      "|  4|               4|   Jongno-gu|0.003|        1|-5.809142990314028|\n",
      "|  5|               5|   Jongno-gu|0.003|        1|-5.809142990314028|\n",
      "|  6|               6|   Jongno-gu|0.003|        1|-5.809142990314028|\n",
      "|  7|               7|   Jongno-gu|0.003|        1|-5.809142990314028|\n",
      "|  8|               8|   Jongno-gu|0.004|        1|-5.521460917862246|\n",
      "|  9|               9|   Jongno-gu|0.003|        1|-5.809142990314028|\n",
      "| 10|              10|   Jongno-gu|0.004|        1|-5.521460917862246|\n",
      "| 11|              11|   Jongno-gu|0.004|        1|-5.521460917862246|\n",
      "| 12|              12|   Jongno-gu|0.004|        1|-5.521460917862246|\n",
      "| 13|              13|   Jongno-gu|0.005|        1|-5.298317366548036|\n",
      "| 14|              14|   Jongno-gu|0.006|        1|-5.115995809754082|\n",
      "| 15|              15|   Jongno-gu|0.006|        1|-5.115995809754082|\n",
      "| 16|              16|   Jongno-gu|0.006|        1|-5.115995809754082|\n",
      "| 17|              17|   Jongno-gu|0.005|        1|-5.298317366548036|\n",
      "| 18|              18|   Jongno-gu|0.005|        1|-5.298317366548036|\n",
      "| 19|              19|   Jongno-gu|0.005|        1|-5.298317366548036|\n",
      "+---+----------------+------------+-----+---------+------------------+\n",
      "only showing top 20 rows\n",
      "\n"
     ]
    }
   ],
   "source": [
    "SO2_file.show()"
   ]
  },
  {
   "cell_type": "code",
   "execution_count": 2,
   "metadata": {},
   "outputs": [],
   "source": [
    "# Import VectorAssembler and Vectors\n",
    "from pyspark.ml.linalg import Vectors\n",
    "from pyspark.ml.feature import VectorAssembler\n",
    "from pyspark.ml.regression import LinearRegression"
   ]
  },
  {
   "cell_type": "code",
   "execution_count": 5,
   "metadata": {},
   "outputs": [],
   "source": [
    "# The input columns are the feature column names, and the output column is what you'd like the new column to be named. \n",
    "assembler = VectorAssembler(\n",
    "    inputCols=[\"Measurement date\", \"SO2_state\", \"SO2_log_return\"],\n",
    "    outputCol=\"features\")"
   ]
  },
  {
   "cell_type": "code",
   "execution_count": 6,
   "metadata": {},
   "outputs": [],
   "source": [
    "# Now that we've created the assembler variable, let's actually transform the data.\n",
    "output_numeric = assembler.transform(SO2_file)"
   ]
  },
  {
   "cell_type": "code",
   "execution_count": 6,
   "metadata": {},
   "outputs": [
    {
     "name": "stdout",
     "output_type": "stream",
     "text": [
      "root\n",
      " |-- _c0: integer (nullable = true)\n",
      " |-- Measurement date: integer (nullable = true)\n",
      " |-- Station code: string (nullable = true)\n",
      " |-- SO2: double (nullable = true)\n",
      " |-- SO2_state: integer (nullable = true)\n",
      " |-- SO2_log_return: double (nullable = true)\n",
      " |-- features: vector (nullable = true)\n",
      "\n"
     ]
    }
   ],
   "source": [
    "# Using print schema, you see that the features output column has been added. \n",
    "output_numeric.printSchema()"
   ]
  },
  {
   "cell_type": "code",
   "execution_count": 7,
   "metadata": {},
   "outputs": [
    {
     "name": "stdout",
     "output_type": "stream",
     "text": [
      "+--------------------+-----+\n",
      "|            features|  SO2|\n",
      "+--------------------+-----+\n",
      "|[0.0,1.0,-5.52146...|0.004|\n",
      "|[1.0,1.0,-5.52146...|0.004|\n",
      "|[2.0,1.0,-5.52146...|0.004|\n",
      "|[3.0,1.0,-5.52146...|0.004|\n",
      "|[4.0,1.0,-5.80914...|0.003|\n",
      "|[5.0,1.0,-5.80914...|0.003|\n",
      "|[6.0,1.0,-5.80914...|0.003|\n",
      "|[7.0,1.0,-5.80914...|0.003|\n",
      "|[8.0,1.0,-5.52146...|0.004|\n",
      "|[9.0,1.0,-5.80914...|0.003|\n",
      "|[10.0,1.0,-5.5214...|0.004|\n",
      "|[11.0,1.0,-5.5214...|0.004|\n",
      "|[12.0,1.0,-5.5214...|0.004|\n",
      "|[13.0,1.0,-5.2983...|0.005|\n",
      "|[14.0,1.0,-5.1159...|0.006|\n",
      "|[15.0,1.0,-5.1159...|0.006|\n",
      "|[16.0,1.0,-5.1159...|0.006|\n",
      "|[17.0,1.0,-5.2983...|0.005|\n",
      "|[18.0,1.0,-5.2983...|0.005|\n",
      "|[19.0,1.0,-5.2983...|0.005|\n",
      "+--------------------+-----+\n",
      "only showing top 20 rows\n",
      "\n"
     ]
    }
   ],
   "source": [
    "final_data_numeric = output_numeric.select(\"features\",'SO2')\n",
    "final_data_numeric.show()"
   ]
  },
  {
   "cell_type": "code",
   "execution_count": 17,
   "metadata": {},
   "outputs": [],
   "source": [
    "numeric_train_data,numeric_test_data = final_data_numeric.randomSplit([0.7,0.3])"
   ]
  },
  {
   "cell_type": "code",
   "execution_count": 19,
   "metadata": {},
   "outputs": [
    {
     "name": "stdout",
     "output_type": "stream",
     "text": [
      "+-------+--------------------+\n",
      "|summary|                 SO2|\n",
      "+-------+--------------------+\n",
      "|  count|              442537|\n",
      "|   mean|0.004380980573361927|\n",
      "| stddev|0.003012223231234...|\n",
      "|    min|               0.001|\n",
      "|    max|               0.406|\n",
      "+-------+--------------------+\n",
      "\n",
      "+-------+--------------------+\n",
      "|summary|                 SO2|\n",
      "+-------+--------------------+\n",
      "|  count|              189904|\n",
      "|   mean|0.004376116353527991|\n",
      "| stddev|0.003114859666818847|\n",
      "|    min|               0.001|\n",
      "|    max|                0.37|\n",
      "+-------+--------------------+\n",
      "\n"
     ]
    }
   ],
   "source": [
    "# Let's see our training data.\n",
    "numeric_train_data.describe().show()\n",
    "\n",
    "# And our testing data.\n",
    "numeric_test_data.describe().show()"
   ]
  },
  {
   "cell_type": "code",
   "execution_count": null,
   "metadata": {},
   "outputs": [],
   "source": []
  },
  {
   "cell_type": "markdown",
   "metadata": {},
   "source": [
    "<font face=\"微软雅黑\" size=4  >6.2.2 Choose a numeric prediction algorithm"
   ]
  },
  {
   "cell_type": "code",
   "execution_count": 9,
   "metadata": {},
   "outputs": [],
   "source": [
    "#a linear regression model is trained with the elastic net parameter α set to 1, it is equivalent to a Lasso model.\n",
    "lr_Lasso = LinearRegression(maxIter=10,regParam=0.3,elasticNetParam=1.0,labelCol='SO2')"
   ]
  },
  {
   "cell_type": "code",
   "execution_count": 23,
   "metadata": {},
   "outputs": [],
   "source": [
    "# Fit the model to the data.\n",
    "lrModel_Lasso = lr_Lasso.fit(numeric_train_data)"
   ]
  },
  {
   "cell_type": "code",
   "execution_count": 25,
   "metadata": {},
   "outputs": [],
   "source": [
    "# Let's evaluate the model against the test data.\n",
    "test_results_Lasso = lrModel_Lasso.evaluate(numeric_test_data)"
   ]
  },
  {
   "cell_type": "code",
   "execution_count": 26,
   "metadata": {},
   "outputs": [
    {
     "name": "stdout",
     "output_type": "stream",
     "text": [
      "RSME_Lasso: 0.0031148552636998316\n",
      "R2_Lasso: -2.4386632859751955e-06\n"
     ]
    }
   ],
   "source": [
    "# Let's get some evaluation metrics (as discussed in the previous linear regression notebook).\n",
    "print(\"RSME_Lasso: {}\".format(test_results_Lasso.rootMeanSquaredError))\n",
    "# We can also get the R2 value. \n",
    "print(\"R2_Lasso: {}\".format(test_results_Lasso.r2))"
   ]
  },
  {
   "cell_type": "code",
   "execution_count": 10,
   "metadata": {},
   "outputs": [],
   "source": [
    "#elasticNetParam=0,the trained model reduces to a ridge regression model.\n",
    "lr_Ridge = LinearRegression(maxIter=10,regParam=0.3,elasticNetParam=0,labelCol='SO2')"
   ]
  },
  {
   "cell_type": "code",
   "execution_count": 30,
   "metadata": {},
   "outputs": [],
   "source": [
    "# Fit the model to the data.\n",
    "lrModel_Ridge = lr_Ridge.fit(numeric_train_data)"
   ]
  },
  {
   "cell_type": "code",
   "execution_count": 31,
   "metadata": {},
   "outputs": [],
   "source": [
    "# Let's evaluate the model against the test data.\n",
    "test_results_Ridge = lrModel_Ridge.evaluate(numeric_test_data)"
   ]
  },
  {
   "cell_type": "code",
   "execution_count": 32,
   "metadata": {},
   "outputs": [
    {
     "name": "stdout",
     "output_type": "stream",
     "text": [
      "RSME_Ridge: 0.0031012169740448027\n",
      "R2_Ridge: 0.00873534482367977\n"
     ]
    }
   ],
   "source": [
    "# Let's get some evaluation metrics (as discussed in the previous linear regression notebook).\n",
    "print(\"RSME_Ridge: {}\".format(test_results_Ridge.rootMeanSquaredError))\n",
    "# We can also get the R2 value. \n",
    "print(\"R2_Ridge: {}\".format(test_results_Ridge.r2))"
   ]
  },
  {
   "cell_type": "code",
   "execution_count": 11,
   "metadata": {},
   "outputs": [],
   "source": [
    "#Function default linear regression\n",
    "lr_initial = LinearRegression(labelCol='SO2')"
   ]
  },
  {
   "cell_type": "code",
   "execution_count": 34,
   "metadata": {},
   "outputs": [],
   "source": [
    "# Fit the model to the data.\n",
    "lrModel_initial = lr_initial.fit(numeric_train_data)"
   ]
  },
  {
   "cell_type": "code",
   "execution_count": 35,
   "metadata": {},
   "outputs": [],
   "source": [
    "# Let's evaluate the model against the test data.\n",
    "test_results_initial = lrModel_initial.evaluate(numeric_test_data)"
   ]
  },
  {
   "cell_type": "code",
   "execution_count": 37,
   "metadata": {},
   "outputs": [
    {
     "name": "stdout",
     "output_type": "stream",
     "text": [
      "RSME_initial: 0.0023536585090204037\n",
      "R2_initial: 0.42903140748885904\n"
     ]
    }
   ],
   "source": [
    "# Let's get some evaluation metrics (as discussed in the previous linear regression notebook).\n",
    "print(\"RSME_initial: {}\".format(test_results_initial.rootMeanSquaredError))\n",
    "# We can also get the R2 value. \n",
    "print(\"R2_initial: {}\".format(test_results_initial.r2))"
   ]
  },
  {
   "cell_type": "markdown",
   "metadata": {},
   "source": [
    "<font face=\"微软雅黑\" size=4  >6.2.3 Setting to avoid overfitting when building a categorize prediction model"
   ]
  },
  {
   "cell_type": "code",
   "execution_count": 4,
   "metadata": {},
   "outputs": [],
   "source": [
    "# Let's import the string indexer (similar to the logistic regression exercises).\n",
    "from pyspark.ml.feature import StringIndexer\n",
    "from pyspark.ml.classification import LogisticRegression\n",
    "indexer = StringIndexer(inputCol=\"Station code\", outputCol=\"Station code Index\")\n",
    "output_fixed = indexer.fit(SO2_file).transform(SO2_file)"
   ]
  },
  {
   "cell_type": "code",
   "execution_count": 5,
   "metadata": {},
   "outputs": [],
   "source": [
    "# The input columns are the feature column names, and the output column is what you'd like the new column to be named. \n",
    "assembler2 = VectorAssembler(\n",
    "    inputCols=[\"Measurement date\", \"Station code Index\", \"SO2_log_return\"],\n",
    "    outputCol=\"features\")\n",
    "# Now that we've created the assembler variable, let's actually transform the data.\n",
    "output_categorize = assembler2.transform(output_fixed)"
   ]
  },
  {
   "cell_type": "code",
   "execution_count": 6,
   "metadata": {},
   "outputs": [
    {
     "name": "stdout",
     "output_type": "stream",
     "text": [
      "+--------------------+---------+\n",
      "|            features|SO2_state|\n",
      "+--------------------+---------+\n",
      "|[0.0,1.0,-5.52146...|        1|\n",
      "|[1.0,1.0,-5.52146...|        1|\n",
      "|[2.0,1.0,-5.52146...|        1|\n",
      "|[3.0,1.0,-5.52146...|        1|\n",
      "|[4.0,1.0,-5.80914...|        1|\n",
      "|[5.0,1.0,-5.80914...|        1|\n",
      "|[6.0,1.0,-5.80914...|        1|\n",
      "|[7.0,1.0,-5.80914...|        1|\n",
      "|[8.0,1.0,-5.52146...|        1|\n",
      "|[9.0,1.0,-5.80914...|        1|\n",
      "|[10.0,1.0,-5.5214...|        1|\n",
      "|[11.0,1.0,-5.5214...|        1|\n",
      "|[12.0,1.0,-5.5214...|        1|\n",
      "|[13.0,1.0,-5.2983...|        1|\n",
      "|[14.0,1.0,-5.1159...|        1|\n",
      "|[15.0,1.0,-5.1159...|        1|\n",
      "|[16.0,1.0,-5.1159...|        1|\n",
      "|[17.0,1.0,-5.2983...|        1|\n",
      "|[18.0,1.0,-5.2983...|        1|\n",
      "|[19.0,1.0,-5.2983...|        1|\n",
      "+--------------------+---------+\n",
      "only showing top 20 rows\n",
      "\n"
     ]
    }
   ],
   "source": [
    "final_data_categorize = output_categorize.select(\"features\",'SO2_state')\n",
    "final_data_categorize.show()"
   ]
  },
  {
   "cell_type": "code",
   "execution_count": 11,
   "metadata": {},
   "outputs": [],
   "source": [
    "# Split the training and testing set.\n",
    "categorize_train_data,categorize_test_data = final_data_categorize.randomSplit([0.7,0.3])"
   ]
  },
  {
   "cell_type": "code",
   "execution_count": 25,
   "metadata": {},
   "outputs": [
    {
     "name": "stdout",
     "output_type": "stream",
     "text": [
      "+-------+------------------+\n",
      "|summary|         SO2_state|\n",
      "+-------+------------------+\n",
      "|  count|            443439|\n",
      "|   mean|1.0002412958715854|\n",
      "| stddev|0.0336117572793937|\n",
      "|    min|                 0|\n",
      "|    max|                 3|\n",
      "+-------+------------------+\n",
      "\n",
      "+-------+--------------------+\n",
      "|summary|           SO2_state|\n",
      "+-------+--------------------+\n",
      "|  count|              189002|\n",
      "|   mean|   1.000211637972085|\n",
      "| stddev|0.033013581026504125|\n",
      "|    min|                   0|\n",
      "|    max|                   3|\n",
      "+-------+--------------------+\n",
      "\n"
     ]
    }
   ],
   "source": [
    "# Let's see our training data.\n",
    "categorize_train_data.describe().show()\n",
    "\n",
    "# And our testing data.\n",
    "categorize_test_data.describe().show()"
   ]
  },
  {
   "cell_type": "markdown",
   "metadata": {},
   "source": [
    "<font face=\"微软雅黑\" size=4  >6.2.4 Choose a categorize prediction algorithm"
   ]
  },
  {
   "cell_type": "code",
   "execution_count": 28,
   "metadata": {},
   "outputs": [],
   "source": [
    "# Let's import the relevant classifiers. \n",
    "from pyspark.ml.classification import DecisionTreeClassifier,GBTClassifier,RandomForestClassifier,LogisticRegression\n",
    "from pyspark.ml import Pipeline"
   ]
  },
  {
   "cell_type": "code",
   "execution_count": 10,
   "metadata": {},
   "outputs": [],
   "source": [
    "# Use defaults to make the comparison \"fair\". This simplifies the comparison process.\n",
    "\n",
    "dtc = DecisionTreeClassifier(labelCol='SO2_state',featuresCol='features')\n",
    "rfc = RandomForestClassifier(labelCol='SO2_state',featuresCol='features')\n",
    "Logist = LogisticRegression(labelCol='SO2_state',featuresCol='features')"
   ]
  },
  {
   "cell_type": "code",
   "execution_count": 20,
   "metadata": {},
   "outputs": [],
   "source": [
    "# Train the models (it's three models, so it might take some time).\n",
    "dtc_model = dtc.fit(categorize_train_data)\n",
    "rfc_model = rfc.fit(categorize_train_data)\n",
    "Logist_model=Logist.fit(categorize_train_data)"
   ]
  },
  {
   "cell_type": "code",
   "execution_count": 21,
   "metadata": {},
   "outputs": [],
   "source": [
    "dtc_predictions = dtc_model.transform(categorize_test_data)\n",
    "rfc_predictions = rfc_model.transform(categorize_test_data)\n",
    "Logist_predictions=Logist_model.transform(categorize_test_data)"
   ]
  },
  {
   "cell_type": "code",
   "execution_count": 23,
   "metadata": {},
   "outputs": [],
   "source": [
    "# Let's start off with binary classification.\n",
    "from pyspark.ml.evaluation import BinaryClassificationEvaluator\n",
    "\n",
    "# Note that the label column isn't named label, it's named PrivateIndex in this case.\n",
    "my_binary_eval = BinaryClassificationEvaluator(labelCol = 'SO2_state')"
   ]
  },
  {
   "cell_type": "code",
   "execution_count": 24,
   "metadata": {},
   "outputs": [
    {
     "name": "stdout",
     "output_type": "stream",
     "text": [
      "DTC\n",
      "0.9997671082787714\n",
      "RFC\n",
      "0.9998788774532029\n",
      "Logist\n",
      "0.9999367015963156\n"
     ]
    }
   ],
   "source": [
    "\n",
    "print(\"DTC\")\n",
    "print(my_binary_eval.evaluate(dtc_predictions))\n",
    "\n",
    "print(\"RFC\")\n",
    "print(my_binary_eval.evaluate(rfc_predictions))\n",
    "\n",
    "print(\"Logist\")\n",
    "print(my_binary_eval.evaluate(Logist_predictions))"
   ]
  },
  {
   "cell_type": "markdown",
   "metadata": {},
   "source": [
    "<font face=\"微软雅黑\" size=4  >7.1 Creating Test"
   ]
  },
  {
   "cell_type": "code",
   "execution_count": 8,
   "metadata": {},
   "outputs": [],
   "source": [
    "numeric_train_data1,numeric_test_data1 = final_data_numeric.randomSplit([0.7,0.3])\n",
    "numeric_train_data2,numeric_test_data2 = final_data_numeric.randomSplit([0.8,0.2])\n",
    "numeric_train_data3,numeric_test_data3 = final_data_numeric.randomSplit([0.9,0.1])"
   ]
  },
  {
   "cell_type": "code",
   "execution_count": 12,
   "metadata": {},
   "outputs": [
    {
     "name": "stdout",
     "output_type": "stream",
     "text": [
      "RSME_Lasso: 0.0030539916362155323\n",
      "R2_Lasso: -2.3548059872258165e-05\n",
      "RSME_Ridge: 0.003040011077062442\n",
      "R2_Ridge: 0.009111308339825541\n",
      "RSME_initial: 0.0022715344498957972\n",
      "R2_initial: 0.44676048066534146\n"
     ]
    }
   ],
   "source": [
    "# Fit the model to the data.\n",
    "lrModel_Lasso = lr_Lasso.fit(numeric_train_data1)\n",
    "# Let's evaluate the model against the test data.\n",
    "test_results_Lasso = lrModel_Lasso.evaluate(numeric_test_data1)\n",
    "# Let's get some evaluation metrics (as discussed in the previous linear regression notebook).\n",
    "print(\"RSME_Lasso: {}\".format(test_results_Lasso.rootMeanSquaredError))\n",
    "# We can also get the R2 value. \n",
    "print(\"R2_Lasso: {}\".format(test_results_Lasso.r2))\n",
    "# Fit the model to the data.\n",
    "lrModel_Ridge = lr_Ridge.fit(numeric_train_data1)\n",
    "# Let's evaluate the model against the test data.\n",
    "test_results_Ridge = lrModel_Ridge.evaluate(numeric_test_data1)\n",
    "# Let's get some evaluation metrics (as discussed in the previous linear regression notebook).\n",
    "print(\"RSME_Ridge: {}\".format(test_results_Ridge.rootMeanSquaredError))\n",
    "# We can also get the R2 value. \n",
    "print(\"R2_Ridge: {}\".format(test_results_Ridge.r2))\n",
    "# Fit the model to the data.\n",
    "lrModel_initial = lr_initial.fit(numeric_train_data1)\n",
    "# Let's evaluate the model against the test data.\n",
    "test_results_initial = lrModel_initial.evaluate(numeric_test_data1)\n",
    "# Let's get some evaluation metrics (as discussed in the previous linear regression notebook).\n",
    "print(\"RSME_initial: {}\".format(test_results_initial.rootMeanSquaredError))\n",
    "# We can also get the R2 value. \n",
    "print(\"R2_initial: {}\".format(test_results_initial.r2))"
   ]
  },
  {
   "cell_type": "code",
   "execution_count": 13,
   "metadata": {},
   "outputs": [
    {
     "name": "stdout",
     "output_type": "stream",
     "text": [
      "RSME_Lasso: 0.0034432587555093784\n",
      "R2_Lasso: -1.210582853161668e-05\n",
      "RSME_Ridge: 0.0034307765564125735\n",
      "R2_Ridge: 0.007225064613355259\n",
      "RSME_initial: 0.0026992308670103124\n",
      "R2_initial: 0.38546588126527925\n"
     ]
    }
   ],
   "source": [
    "# Fit the model to the data.\n",
    "lrModel_Lasso = lr_Lasso.fit(numeric_train_data2)\n",
    "# Let's evaluate the model against the test data.\n",
    "test_results_Lasso = lrModel_Lasso.evaluate(numeric_test_data2)\n",
    "# Let's get some evaluation metrics (as discussed in the previous linear regression notebook).\n",
    "print(\"RSME_Lasso: {}\".format(test_results_Lasso.rootMeanSquaredError))\n",
    "# We can also get the R2 value. \n",
    "print(\"R2_Lasso: {}\".format(test_results_Lasso.r2))\n",
    "# Fit the model to the data.\n",
    "lrModel_Ridge = lr_Ridge.fit(numeric_train_data2)\n",
    "# Let's evaluate the model against the test data.\n",
    "test_results_Ridge = lrModel_Ridge.evaluate(numeric_test_data2)\n",
    "# Let's get some evaluation metrics (as discussed in the previous linear regression notebook).\n",
    "print(\"RSME_Ridge: {}\".format(test_results_Ridge.rootMeanSquaredError))\n",
    "# We can also get the R2 value. \n",
    "print(\"R2_Ridge: {}\".format(test_results_Ridge.r2))\n",
    "# Fit the model to the data.\n",
    "lrModel_initial = lr_initial.fit(numeric_train_data2)\n",
    "# Let's evaluate the model against the test data.\n",
    "test_results_initial = lrModel_initial.evaluate(numeric_test_data2)\n",
    "# Let's get some evaluation metrics (as discussed in the previous linear regression notebook).\n",
    "print(\"RSME_initial: {}\".format(test_results_initial.rootMeanSquaredError))\n",
    "# We can also get the R2 value. \n",
    "print(\"R2_initial: {}\".format(test_results_initial.r2))"
   ]
  },
  {
   "cell_type": "code",
   "execution_count": 14,
   "metadata": {},
   "outputs": [
    {
     "name": "stdout",
     "output_type": "stream",
     "text": [
      "RSME_Lasso: 0.0024727266723566623\n",
      "R2_Lasso: -4.017495457442344e-05\n",
      "RSME_Ridge: 0.0024563552708692306\n",
      "R2_Ridge: 0.013158098365016357\n",
      "RSME_initial: 0.001609193530603601\n",
      "R2_initial: 0.576472342309706\n"
     ]
    }
   ],
   "source": [
    "# Fit the model to the data.\n",
    "lrModel_Lasso = lr_Lasso.fit(numeric_train_data3)\n",
    "# Let's evaluate the model against the test data.\n",
    "test_results_Lasso = lrModel_Lasso.evaluate(numeric_test_data3)\n",
    "# Let's get some evaluation metrics (as discussed in the previous linear regression notebook).\n",
    "print(\"RSME_Lasso: {}\".format(test_results_Lasso.rootMeanSquaredError))\n",
    "# We can also get the R2 value. \n",
    "print(\"R2_Lasso: {}\".format(test_results_Lasso.r2))\n",
    "# Fit the model to the data.\n",
    "lrModel_Ridge = lr_Ridge.fit(numeric_train_data3)\n",
    "# Let's evaluate the model against the test data.\n",
    "test_results_Ridge = lrModel_Ridge.evaluate(numeric_test_data3)\n",
    "# Let's get some evaluation metrics (as discussed in the previous linear regression notebook).\n",
    "print(\"RSME_Ridge: {}\".format(test_results_Ridge.rootMeanSquaredError))\n",
    "# We can also get the R2 value. \n",
    "print(\"R2_Ridge: {}\".format(test_results_Ridge.r2))\n",
    "# Fit the model to the data.\n",
    "lrModel_initial = lr_initial.fit(numeric_train_data3)\n",
    "# Let's evaluate the model against the test data.\n",
    "test_results_initial = lrModel_initial.evaluate(numeric_test_data3)\n",
    "# Let's get some evaluation metrics (as discussed in the previous linear regression notebook).\n",
    "print(\"RSME_initial: {}\".format(test_results_initial.rootMeanSquaredError))\n",
    "# We can also get the R2 value. \n",
    "print(\"R2_initial: {}\".format(test_results_initial.r2))"
   ]
  },
  {
   "cell_type": "code",
   "execution_count": 8,
   "metadata": {},
   "outputs": [],
   "source": [
    "categorize_train_data2,categorize_test_data2 = final_data_categorize.randomSplit([0.8,0.2])\n",
    "categorize_train_data3,categorize_test_data3 = final_data_categorize.randomSplit([0.9,0.1])"
   ]
  },
  {
   "cell_type": "code",
   "execution_count": 11,
   "metadata": {},
   "outputs": [],
   "source": [
    "# Train the models (it's three models, so it might take some time).\n",
    "dtc_model = dtc.fit(categorize_train_data2)\n",
    "rfc_model = rfc.fit(categorize_train_data2)\n",
    "Logist_model=Logist.fit(categorize_train_data2)"
   ]
  },
  {
   "cell_type": "code",
   "execution_count": 22,
   "metadata": {},
   "outputs": [],
   "source": [
    "dtc_predictions = dtc_model.transform(categorize_test_data2)\n",
    "rfc_predictions = rfc_model.transform(categorize_test_data2)\n",
    "Logist_predictions=Logist_model.transform(categorize_test_data2)"
   ]
  },
  {
   "cell_type": "code",
   "execution_count": 24,
   "metadata": {},
   "outputs": [
    {
     "name": "stdout",
     "output_type": "stream",
     "text": [
      "DTC\n",
      "0.9997394126519106\n",
      "RFC\n",
      "0.9999735706090993\n",
      "Logist\n",
      "0.9999672855710187\n"
     ]
    }
   ],
   "source": [
    "print(\"DTC\")\n",
    "print(my_binary_eval.evaluate(dtc_predictions))\n",
    "\n",
    "print(\"RFC\")\n",
    "print(my_binary_eval.evaluate(rfc_predictions))\n",
    "\n",
    "print(\"Logist\")\n",
    "print(my_binary_eval.evaluate(Logist_predictions))"
   ]
  },
  {
   "cell_type": "code",
   "execution_count": 13,
   "metadata": {},
   "outputs": [
    {
     "name": "stderr",
     "output_type": "stream",
     "text": [
      "ERROR:py4j.java_gateway:An error occurred while trying to connect to the Java server (127.0.0.1:45652)\n",
      "Traceback (most recent call last):\n",
      "  File \"/home/ubuntu/spark-2.1.1-bin-hadoop2.7/python/lib/py4j-0.10.4-src.zip/py4j/java_gateway.py\", line 827, in _get_connection\n",
      "    connection = self.deque.pop()\n",
      "IndexError: pop from an empty deque\n",
      "\n",
      "During handling of the above exception, another exception occurred:\n",
      "\n",
      "Traceback (most recent call last):\n",
      "  File \"/home/ubuntu/spark-2.1.1-bin-hadoop2.7/python/lib/py4j-0.10.4-src.zip/py4j/java_gateway.py\", line 963, in start\n",
      "    self.socket.connect((self.address, self.port))\n",
      "ConnectionRefusedError: [Errno 111] Connection refused\n"
     ]
    },
    {
     "ename": "Py4JNetworkError",
     "evalue": "An error occurred while trying to connect to the Java server (127.0.0.1:45652)",
     "output_type": "error",
     "traceback": [
      "\u001b[0;31m---------------------------------------------------------------------------\u001b[0m",
      "\u001b[0;31mIndexError\u001b[0m                                Traceback (most recent call last)",
      "\u001b[0;32m~/spark-2.1.1-bin-hadoop2.7/python/lib/py4j-0.10.4-src.zip/py4j/java_gateway.py\u001b[0m in \u001b[0;36m_get_connection\u001b[0;34m(self)\u001b[0m\n\u001b[1;32m    826\u001b[0m         \u001b[0;32mtry\u001b[0m\u001b[0;34m:\u001b[0m\u001b[0;34m\u001b[0m\u001b[0m\n\u001b[0;32m--> 827\u001b[0;31m             \u001b[0mconnection\u001b[0m \u001b[0;34m=\u001b[0m \u001b[0mself\u001b[0m\u001b[0;34m.\u001b[0m\u001b[0mdeque\u001b[0m\u001b[0;34m.\u001b[0m\u001b[0mpop\u001b[0m\u001b[0;34m(\u001b[0m\u001b[0;34m)\u001b[0m\u001b[0;34m\u001b[0m\u001b[0m\n\u001b[0m\u001b[1;32m    828\u001b[0m         \u001b[0;32mexcept\u001b[0m \u001b[0mIndexError\u001b[0m\u001b[0;34m:\u001b[0m\u001b[0;34m\u001b[0m\u001b[0m\n",
      "\u001b[0;31mIndexError\u001b[0m: pop from an empty deque",
      "\nDuring handling of the above exception, another exception occurred:\n",
      "\u001b[0;31mConnectionRefusedError\u001b[0m                    Traceback (most recent call last)",
      "\u001b[0;32m~/spark-2.1.1-bin-hadoop2.7/python/lib/py4j-0.10.4-src.zip/py4j/java_gateway.py\u001b[0m in \u001b[0;36mstart\u001b[0;34m(self)\u001b[0m\n\u001b[1;32m    962\u001b[0m         \u001b[0;32mtry\u001b[0m\u001b[0;34m:\u001b[0m\u001b[0;34m\u001b[0m\u001b[0m\n\u001b[0;32m--> 963\u001b[0;31m             \u001b[0mself\u001b[0m\u001b[0;34m.\u001b[0m\u001b[0msocket\u001b[0m\u001b[0;34m.\u001b[0m\u001b[0mconnect\u001b[0m\u001b[0;34m(\u001b[0m\u001b[0;34m(\u001b[0m\u001b[0mself\u001b[0m\u001b[0;34m.\u001b[0m\u001b[0maddress\u001b[0m\u001b[0;34m,\u001b[0m \u001b[0mself\u001b[0m\u001b[0;34m.\u001b[0m\u001b[0mport\u001b[0m\u001b[0;34m)\u001b[0m\u001b[0;34m)\u001b[0m\u001b[0;34m\u001b[0m\u001b[0m\n\u001b[0m\u001b[1;32m    964\u001b[0m             \u001b[0mself\u001b[0m\u001b[0;34m.\u001b[0m\u001b[0mis_connected\u001b[0m \u001b[0;34m=\u001b[0m \u001b[0;32mTrue\u001b[0m\u001b[0;34m\u001b[0m\u001b[0m\n",
      "\u001b[0;31mConnectionRefusedError\u001b[0m: [Errno 111] Connection refused",
      "\nDuring handling of the above exception, another exception occurred:\n",
      "\u001b[0;31mPy4JNetworkError\u001b[0m                          Traceback (most recent call last)",
      "\u001b[0;32m<ipython-input-13-e122f3cccb28>\u001b[0m in \u001b[0;36m<module>\u001b[0;34m()\u001b[0m\n\u001b[1;32m      1\u001b[0m \u001b[0;31m# Train the models (it's three models, so it might take some time).\u001b[0m\u001b[0;34m\u001b[0m\u001b[0;34m\u001b[0m\u001b[0m\n\u001b[0;32m----> 2\u001b[0;31m \u001b[0mdtc_model\u001b[0m \u001b[0;34m=\u001b[0m \u001b[0mdtc\u001b[0m\u001b[0;34m.\u001b[0m\u001b[0mfit\u001b[0m\u001b[0;34m(\u001b[0m\u001b[0mcategorize_train_data3\u001b[0m\u001b[0;34m)\u001b[0m\u001b[0;34m\u001b[0m\u001b[0m\n\u001b[0m\u001b[1;32m      3\u001b[0m \u001b[0mrfc_model\u001b[0m \u001b[0;34m=\u001b[0m \u001b[0mrfc\u001b[0m\u001b[0;34m.\u001b[0m\u001b[0mfit\u001b[0m\u001b[0;34m(\u001b[0m\u001b[0mcategorize_train_data3\u001b[0m\u001b[0;34m)\u001b[0m\u001b[0;34m\u001b[0m\u001b[0m\n\u001b[1;32m      4\u001b[0m \u001b[0mLogist_model\u001b[0m\u001b[0;34m=\u001b[0m\u001b[0mLogist\u001b[0m\u001b[0;34m.\u001b[0m\u001b[0mfit\u001b[0m\u001b[0;34m(\u001b[0m\u001b[0mcategorize_train_data3\u001b[0m\u001b[0;34m)\u001b[0m\u001b[0;34m\u001b[0m\u001b[0m\n",
      "\u001b[0;32m~/spark-2.1.1-bin-hadoop2.7/python/pyspark/ml/base.py\u001b[0m in \u001b[0;36mfit\u001b[0;34m(self, dataset, params)\u001b[0m\n\u001b[1;32m     62\u001b[0m                 \u001b[0;32mreturn\u001b[0m \u001b[0mself\u001b[0m\u001b[0;34m.\u001b[0m\u001b[0mcopy\u001b[0m\u001b[0;34m(\u001b[0m\u001b[0mparams\u001b[0m\u001b[0;34m)\u001b[0m\u001b[0;34m.\u001b[0m\u001b[0m_fit\u001b[0m\u001b[0;34m(\u001b[0m\u001b[0mdataset\u001b[0m\u001b[0;34m)\u001b[0m\u001b[0;34m\u001b[0m\u001b[0m\n\u001b[1;32m     63\u001b[0m             \u001b[0;32melse\u001b[0m\u001b[0;34m:\u001b[0m\u001b[0;34m\u001b[0m\u001b[0m\n\u001b[0;32m---> 64\u001b[0;31m                 \u001b[0;32mreturn\u001b[0m \u001b[0mself\u001b[0m\u001b[0;34m.\u001b[0m\u001b[0m_fit\u001b[0m\u001b[0;34m(\u001b[0m\u001b[0mdataset\u001b[0m\u001b[0;34m)\u001b[0m\u001b[0;34m\u001b[0m\u001b[0m\n\u001b[0m\u001b[1;32m     65\u001b[0m         \u001b[0;32melse\u001b[0m\u001b[0;34m:\u001b[0m\u001b[0;34m\u001b[0m\u001b[0m\n\u001b[1;32m     66\u001b[0m             raise ValueError(\"Params must be either a param map or a list/tuple of param maps, \"\n",
      "\u001b[0;32m~/spark-2.1.1-bin-hadoop2.7/python/pyspark/ml/wrapper.py\u001b[0m in \u001b[0;36m_fit\u001b[0;34m(self, dataset)\u001b[0m\n\u001b[1;32m    234\u001b[0m \u001b[0;34m\u001b[0m\u001b[0m\n\u001b[1;32m    235\u001b[0m     \u001b[0;32mdef\u001b[0m \u001b[0m_fit\u001b[0m\u001b[0;34m(\u001b[0m\u001b[0mself\u001b[0m\u001b[0;34m,\u001b[0m \u001b[0mdataset\u001b[0m\u001b[0;34m)\u001b[0m\u001b[0;34m:\u001b[0m\u001b[0;34m\u001b[0m\u001b[0m\n\u001b[0;32m--> 236\u001b[0;31m         \u001b[0mjava_model\u001b[0m \u001b[0;34m=\u001b[0m \u001b[0mself\u001b[0m\u001b[0;34m.\u001b[0m\u001b[0m_fit_java\u001b[0m\u001b[0;34m(\u001b[0m\u001b[0mdataset\u001b[0m\u001b[0;34m)\u001b[0m\u001b[0;34m\u001b[0m\u001b[0m\n\u001b[0m\u001b[1;32m    237\u001b[0m         \u001b[0;32mreturn\u001b[0m \u001b[0mself\u001b[0m\u001b[0;34m.\u001b[0m\u001b[0m_create_model\u001b[0m\u001b[0;34m(\u001b[0m\u001b[0mjava_model\u001b[0m\u001b[0;34m)\u001b[0m\u001b[0;34m\u001b[0m\u001b[0m\n\u001b[1;32m    238\u001b[0m \u001b[0;34m\u001b[0m\u001b[0m\n",
      "\u001b[0;32m~/spark-2.1.1-bin-hadoop2.7/python/pyspark/ml/wrapper.py\u001b[0m in \u001b[0;36m_fit_java\u001b[0;34m(self, dataset)\u001b[0m\n\u001b[1;32m    230\u001b[0m         \u001b[0;34m:\u001b[0m\u001b[0;32mreturn\u001b[0m\u001b[0;34m:\u001b[0m \u001b[0mfitted\u001b[0m \u001b[0mJava\u001b[0m \u001b[0mmodel\u001b[0m\u001b[0;34m\u001b[0m\u001b[0m\n\u001b[1;32m    231\u001b[0m         \"\"\"\n\u001b[0;32m--> 232\u001b[0;31m         \u001b[0mself\u001b[0m\u001b[0;34m.\u001b[0m\u001b[0m_transfer_params_to_java\u001b[0m\u001b[0;34m(\u001b[0m\u001b[0;34m)\u001b[0m\u001b[0;34m\u001b[0m\u001b[0m\n\u001b[0m\u001b[1;32m    233\u001b[0m         \u001b[0;32mreturn\u001b[0m \u001b[0mself\u001b[0m\u001b[0;34m.\u001b[0m\u001b[0m_java_obj\u001b[0m\u001b[0;34m.\u001b[0m\u001b[0mfit\u001b[0m\u001b[0;34m(\u001b[0m\u001b[0mdataset\u001b[0m\u001b[0;34m.\u001b[0m\u001b[0m_jdf\u001b[0m\u001b[0;34m)\u001b[0m\u001b[0;34m\u001b[0m\u001b[0m\n\u001b[1;32m    234\u001b[0m \u001b[0;34m\u001b[0m\u001b[0m\n",
      "\u001b[0;32m~/spark-2.1.1-bin-hadoop2.7/python/pyspark/ml/wrapper.py\u001b[0m in \u001b[0;36m_transfer_params_to_java\u001b[0;34m(self)\u001b[0m\n\u001b[1;32m     93\u001b[0m         \u001b[0;32mfor\u001b[0m \u001b[0mparam\u001b[0m \u001b[0;32min\u001b[0m \u001b[0mself\u001b[0m\u001b[0;34m.\u001b[0m\u001b[0mparams\u001b[0m\u001b[0;34m:\u001b[0m\u001b[0;34m\u001b[0m\u001b[0m\n\u001b[1;32m     94\u001b[0m             \u001b[0;32mif\u001b[0m \u001b[0mparam\u001b[0m \u001b[0;32min\u001b[0m \u001b[0mparamMap\u001b[0m\u001b[0;34m:\u001b[0m\u001b[0;34m\u001b[0m\u001b[0m\n\u001b[0;32m---> 95\u001b[0;31m                 \u001b[0mpair\u001b[0m \u001b[0;34m=\u001b[0m \u001b[0mself\u001b[0m\u001b[0;34m.\u001b[0m\u001b[0m_make_java_param_pair\u001b[0m\u001b[0;34m(\u001b[0m\u001b[0mparam\u001b[0m\u001b[0;34m,\u001b[0m \u001b[0mparamMap\u001b[0m\u001b[0;34m[\u001b[0m\u001b[0mparam\u001b[0m\u001b[0;34m]\u001b[0m\u001b[0;34m)\u001b[0m\u001b[0;34m\u001b[0m\u001b[0m\n\u001b[0m\u001b[1;32m     96\u001b[0m                 \u001b[0mself\u001b[0m\u001b[0;34m.\u001b[0m\u001b[0m_java_obj\u001b[0m\u001b[0;34m.\u001b[0m\u001b[0mset\u001b[0m\u001b[0;34m(\u001b[0m\u001b[0mpair\u001b[0m\u001b[0;34m)\u001b[0m\u001b[0;34m\u001b[0m\u001b[0m\n\u001b[1;32m     97\u001b[0m \u001b[0;34m\u001b[0m\u001b[0m\n",
      "\u001b[0;32m~/spark-2.1.1-bin-hadoop2.7/python/pyspark/ml/wrapper.py\u001b[0m in \u001b[0;36m_make_java_param_pair\u001b[0;34m(self, param, value)\u001b[0m\n\u001b[1;32m     82\u001b[0m         \u001b[0msc\u001b[0m \u001b[0;34m=\u001b[0m \u001b[0mSparkContext\u001b[0m\u001b[0;34m.\u001b[0m\u001b[0m_active_spark_context\u001b[0m\u001b[0;34m\u001b[0m\u001b[0m\n\u001b[1;32m     83\u001b[0m         \u001b[0mparam\u001b[0m \u001b[0;34m=\u001b[0m \u001b[0mself\u001b[0m\u001b[0;34m.\u001b[0m\u001b[0m_resolveParam\u001b[0m\u001b[0;34m(\u001b[0m\u001b[0mparam\u001b[0m\u001b[0;34m)\u001b[0m\u001b[0;34m\u001b[0m\u001b[0m\n\u001b[0;32m---> 84\u001b[0;31m         \u001b[0mjava_param\u001b[0m \u001b[0;34m=\u001b[0m \u001b[0mself\u001b[0m\u001b[0;34m.\u001b[0m\u001b[0m_java_obj\u001b[0m\u001b[0;34m.\u001b[0m\u001b[0mgetParam\u001b[0m\u001b[0;34m(\u001b[0m\u001b[0mparam\u001b[0m\u001b[0;34m.\u001b[0m\u001b[0mname\u001b[0m\u001b[0;34m)\u001b[0m\u001b[0;34m\u001b[0m\u001b[0m\n\u001b[0m\u001b[1;32m     85\u001b[0m         \u001b[0mjava_value\u001b[0m \u001b[0;34m=\u001b[0m \u001b[0m_py2java\u001b[0m\u001b[0;34m(\u001b[0m\u001b[0msc\u001b[0m\u001b[0;34m,\u001b[0m \u001b[0mvalue\u001b[0m\u001b[0;34m)\u001b[0m\u001b[0;34m\u001b[0m\u001b[0m\n\u001b[1;32m     86\u001b[0m         \u001b[0;32mreturn\u001b[0m \u001b[0mjava_param\u001b[0m\u001b[0;34m.\u001b[0m\u001b[0mw\u001b[0m\u001b[0;34m(\u001b[0m\u001b[0mjava_value\u001b[0m\u001b[0;34m)\u001b[0m\u001b[0;34m\u001b[0m\u001b[0m\n",
      "\u001b[0;32m~/spark-2.1.1-bin-hadoop2.7/python/lib/py4j-0.10.4-src.zip/py4j/java_gateway.py\u001b[0m in \u001b[0;36m__call__\u001b[0;34m(self, *args)\u001b[0m\n\u001b[1;32m   1129\u001b[0m             \u001b[0mproto\u001b[0m\u001b[0;34m.\u001b[0m\u001b[0mEND_COMMAND_PART\u001b[0m\u001b[0;34m\u001b[0m\u001b[0m\n\u001b[1;32m   1130\u001b[0m \u001b[0;34m\u001b[0m\u001b[0m\n\u001b[0;32m-> 1131\u001b[0;31m         \u001b[0manswer\u001b[0m \u001b[0;34m=\u001b[0m \u001b[0mself\u001b[0m\u001b[0;34m.\u001b[0m\u001b[0mgateway_client\u001b[0m\u001b[0;34m.\u001b[0m\u001b[0msend_command\u001b[0m\u001b[0;34m(\u001b[0m\u001b[0mcommand\u001b[0m\u001b[0;34m)\u001b[0m\u001b[0;34m\u001b[0m\u001b[0m\n\u001b[0m\u001b[1;32m   1132\u001b[0m         return_value = get_return_value(\n\u001b[1;32m   1133\u001b[0m             answer, self.gateway_client, self.target_id, self.name)\n",
      "\u001b[0;32m~/spark-2.1.1-bin-hadoop2.7/python/lib/py4j-0.10.4-src.zip/py4j/java_gateway.py\u001b[0m in \u001b[0;36msend_command\u001b[0;34m(self, command, retry, binary)\u001b[0m\n\u001b[1;32m    879\u001b[0m          \u001b[0;32mif\u001b[0m\u001b[0;31m \u001b[0m\u001b[0;31m`\u001b[0m\u001b[0mbinary\u001b[0m\u001b[0;31m`\u001b[0m \u001b[0;32mis\u001b[0m\u001b[0;31m \u001b[0m\u001b[0;31m`\u001b[0m\u001b[0;32mTrue\u001b[0m\u001b[0;31m`\u001b[0m\u001b[0;34m.\u001b[0m\u001b[0;34m\u001b[0m\u001b[0m\n\u001b[1;32m    880\u001b[0m         \"\"\"\n\u001b[0;32m--> 881\u001b[0;31m         \u001b[0mconnection\u001b[0m \u001b[0;34m=\u001b[0m \u001b[0mself\u001b[0m\u001b[0;34m.\u001b[0m\u001b[0m_get_connection\u001b[0m\u001b[0;34m(\u001b[0m\u001b[0;34m)\u001b[0m\u001b[0;34m\u001b[0m\u001b[0m\n\u001b[0m\u001b[1;32m    882\u001b[0m         \u001b[0;32mtry\u001b[0m\u001b[0;34m:\u001b[0m\u001b[0;34m\u001b[0m\u001b[0m\n\u001b[1;32m    883\u001b[0m             \u001b[0mresponse\u001b[0m \u001b[0;34m=\u001b[0m \u001b[0mconnection\u001b[0m\u001b[0;34m.\u001b[0m\u001b[0msend_command\u001b[0m\u001b[0;34m(\u001b[0m\u001b[0mcommand\u001b[0m\u001b[0;34m)\u001b[0m\u001b[0;34m\u001b[0m\u001b[0m\n",
      "\u001b[0;32m~/spark-2.1.1-bin-hadoop2.7/python/lib/py4j-0.10.4-src.zip/py4j/java_gateway.py\u001b[0m in \u001b[0;36m_get_connection\u001b[0;34m(self)\u001b[0m\n\u001b[1;32m    827\u001b[0m             \u001b[0mconnection\u001b[0m \u001b[0;34m=\u001b[0m \u001b[0mself\u001b[0m\u001b[0;34m.\u001b[0m\u001b[0mdeque\u001b[0m\u001b[0;34m.\u001b[0m\u001b[0mpop\u001b[0m\u001b[0;34m(\u001b[0m\u001b[0;34m)\u001b[0m\u001b[0;34m\u001b[0m\u001b[0m\n\u001b[1;32m    828\u001b[0m         \u001b[0;32mexcept\u001b[0m \u001b[0mIndexError\u001b[0m\u001b[0;34m:\u001b[0m\u001b[0;34m\u001b[0m\u001b[0m\n\u001b[0;32m--> 829\u001b[0;31m             \u001b[0mconnection\u001b[0m \u001b[0;34m=\u001b[0m \u001b[0mself\u001b[0m\u001b[0;34m.\u001b[0m\u001b[0m_create_connection\u001b[0m\u001b[0;34m(\u001b[0m\u001b[0;34m)\u001b[0m\u001b[0;34m\u001b[0m\u001b[0m\n\u001b[0m\u001b[1;32m    830\u001b[0m         \u001b[0;32mreturn\u001b[0m \u001b[0mconnection\u001b[0m\u001b[0;34m\u001b[0m\u001b[0m\n\u001b[1;32m    831\u001b[0m \u001b[0;34m\u001b[0m\u001b[0m\n",
      "\u001b[0;32m~/spark-2.1.1-bin-hadoop2.7/python/lib/py4j-0.10.4-src.zip/py4j/java_gateway.py\u001b[0m in \u001b[0;36m_create_connection\u001b[0;34m(self)\u001b[0m\n\u001b[1;32m    833\u001b[0m         connection = GatewayConnection(\n\u001b[1;32m    834\u001b[0m             self.gateway_parameters, self.gateway_property)\n\u001b[0;32m--> 835\u001b[0;31m         \u001b[0mconnection\u001b[0m\u001b[0;34m.\u001b[0m\u001b[0mstart\u001b[0m\u001b[0;34m(\u001b[0m\u001b[0;34m)\u001b[0m\u001b[0;34m\u001b[0m\u001b[0m\n\u001b[0m\u001b[1;32m    836\u001b[0m         \u001b[0;32mreturn\u001b[0m \u001b[0mconnection\u001b[0m\u001b[0;34m\u001b[0m\u001b[0m\n\u001b[1;32m    837\u001b[0m \u001b[0;34m\u001b[0m\u001b[0m\n",
      "\u001b[0;32m~/spark-2.1.1-bin-hadoop2.7/python/lib/py4j-0.10.4-src.zip/py4j/java_gateway.py\u001b[0m in \u001b[0;36mstart\u001b[0;34m(self)\u001b[0m\n\u001b[1;32m    968\u001b[0m                 \u001b[0;34m\"server ({0}:{1})\"\u001b[0m\u001b[0;34m.\u001b[0m\u001b[0mformat\u001b[0m\u001b[0;34m(\u001b[0m\u001b[0mself\u001b[0m\u001b[0;34m.\u001b[0m\u001b[0maddress\u001b[0m\u001b[0;34m,\u001b[0m \u001b[0mself\u001b[0m\u001b[0;34m.\u001b[0m\u001b[0mport\u001b[0m\u001b[0;34m)\u001b[0m\u001b[0;34m\u001b[0m\u001b[0m\n\u001b[1;32m    969\u001b[0m             \u001b[0mlogger\u001b[0m\u001b[0;34m.\u001b[0m\u001b[0mexception\u001b[0m\u001b[0;34m(\u001b[0m\u001b[0mmsg\u001b[0m\u001b[0;34m)\u001b[0m\u001b[0;34m\u001b[0m\u001b[0m\n\u001b[0;32m--> 970\u001b[0;31m             \u001b[0;32mraise\u001b[0m \u001b[0mPy4JNetworkError\u001b[0m\u001b[0;34m(\u001b[0m\u001b[0mmsg\u001b[0m\u001b[0;34m,\u001b[0m \u001b[0me\u001b[0m\u001b[0;34m)\u001b[0m\u001b[0;34m\u001b[0m\u001b[0m\n\u001b[0m\u001b[1;32m    971\u001b[0m \u001b[0;34m\u001b[0m\u001b[0m\n\u001b[1;32m    972\u001b[0m     \u001b[0;32mdef\u001b[0m \u001b[0mclose\u001b[0m\u001b[0;34m(\u001b[0m\u001b[0mself\u001b[0m\u001b[0;34m,\u001b[0m \u001b[0mreset\u001b[0m\u001b[0;34m=\u001b[0m\u001b[0;32mFalse\u001b[0m\u001b[0;34m)\u001b[0m\u001b[0;34m:\u001b[0m\u001b[0;34m\u001b[0m\u001b[0m\n",
      "\u001b[0;31mPy4JNetworkError\u001b[0m: An error occurred while trying to connect to the Java server (127.0.0.1:45652)"
     ]
    }
   ],
   "source": [
    "# Train the models (it's three models, so it might take some time).\n",
    "dtc_model = dtc.fit(categorize_train_data3)\n",
    "rfc_model = rfc.fit(categorize_train_data3)\n",
    "Logist_model=Logist.fit(categorize_train_data3)"
   ]
  },
  {
   "cell_type": "markdown",
   "metadata": {},
   "source": [
    "<font face=\"微软雅黑\" size=4  >7.2.1 Target One-Realize the prediction of polluted gas data"
   ]
  },
  {
   "cell_type": "code",
   "execution_count": 8,
   "metadata": {},
   "outputs": [],
   "source": [
    "numeric_train_data3,numeric_test_data3 = final_data_numeric.randomSplit([0.9,0.1])"
   ]
  },
  {
   "cell_type": "code",
   "execution_count": 9,
   "metadata": {},
   "outputs": [
    {
     "name": "stdout",
     "output_type": "stream",
     "text": [
      "+-------+--------------------+\n",
      "|summary|                 SO2|\n",
      "+-------+--------------------+\n",
      "|  count|              569093|\n",
      "|   mean|0.004383436450635127|\n",
      "| stddev|0.003104315371989274|\n",
      "|    min|               0.001|\n",
      "|    max|               0.406|\n",
      "+-------+--------------------+\n",
      "\n",
      "+-------+--------------------+\n",
      "|summary|                 SO2|\n",
      "+-------+--------------------+\n",
      "|  count|               63348|\n",
      "|   mean|0.004344336048491283|\n",
      "| stddev|0.002428369842137869|\n",
      "|    min|               0.001|\n",
      "|    max|               0.273|\n",
      "+-------+--------------------+\n",
      "\n"
     ]
    }
   ],
   "source": [
    "# Let's see our training data.\n",
    "numeric_train_data3.describe().show()\n",
    "\n",
    "# And our testing data.\n",
    "numeric_test_data3.describe().show()"
   ]
  },
  {
   "cell_type": "code",
   "execution_count": 9,
   "metadata": {},
   "outputs": [],
   "source": [
    "#Function default linear regression\n",
    "lr_initial = LinearRegression(labelCol='SO2')"
   ]
  },
  {
   "cell_type": "code",
   "execution_count": 10,
   "metadata": {},
   "outputs": [],
   "source": [
    "# Fit the model to the data.\n",
    "lrModel_initial = lr_initial.fit(numeric_train_data3)"
   ]
  },
  {
   "cell_type": "code",
   "execution_count": 11,
   "metadata": {},
   "outputs": [
    {
     "name": "stdout",
     "output_type": "stream",
     "text": [
      "Coefficients: [1.4714604246558787e-08,0.005147951805830881,0.0052061909439304775] Intercept: 0.02774539150187676\n"
     ]
    }
   ],
   "source": [
    "# Print the coefficients and intercept for linear regression.\n",
    "print(\"Coefficients: {} Intercept: {}\".format(lrModel_initial.coefficients,lrModel_initial.intercept))"
   ]
  },
  {
   "cell_type": "code",
   "execution_count": 13,
   "metadata": {},
   "outputs": [
    {
     "data": {
      "image/png": "[encoded data removed]",
      "text/plain": [
       "<Figure size 432x288 with 1 Axes>"
      ]
     },
     "metadata": {},
     "output_type": "display_data"
    }
   ],
   "source": [
    "x=numpy.sort(lrModel_initial.coefficients)\n",
    "plt.plot(x)\n",
    "plt.ylabel('Coefficients')\n",
    "plt.show()"
   ]
  },
  {
   "cell_type": "code",
   "execution_count": 12,
   "metadata": {},
   "outputs": [],
   "source": [
    "# Let's evaluate the model against the test data.\n",
    "test_results_initial = lrModel_initial.evaluate(numeric_test_data3)"
   ]
  },
  {
   "cell_type": "code",
   "execution_count": 12,
   "metadata": {},
   "outputs": [
    {
     "name": "stdout",
     "output_type": "stream",
     "text": [
      "RSME_initial: 0.0024044896635714115\n",
      "R2_initial: 0.4263281867039632\n"
     ]
    }
   ],
   "source": [
    "# Let's get some evaluation metrics (as discussed in the previous linear regression notebook).\n",
    "print(\"RSME_initial: {}\".format(test_results_initial.rootMeanSquaredError))\n",
    "# We can also get the R2 value. \n",
    "print(\"R2_initial: {}\".format(test_results_initial.r2))"
   ]
  },
  {
   "cell_type": "code",
   "execution_count": 13,
   "metadata": {},
   "outputs": [],
   "source": [
    "results_columns=lrModel_initial.transform(numeric_test_data3)"
   ]
  },
  {
   "cell_type": "code",
   "execution_count": 14,
   "metadata": {},
   "outputs": [
    {
     "data": {
      "text/plain": [
       "[('features', 'vector'), ('SO2', 'double'), ('prediction', 'double')]"
      ]
     },
     "execution_count": 14,
     "metadata": {},
     "output_type": "execute_result"
    }
   ],
   "source": [
    "results_columns.dtypes"
   ]
  },
  {
   "cell_type": "code",
   "execution_count": 15,
   "metadata": {},
   "outputs": [
    {
     "data": {
      "image/png": "[encoded data removed]",
      "text/plain": [
       "<Figure size 432x288 with 1 Axes>"
      ]
     },
     "metadata": {},
     "output_type": "display_data"
    }
   ],
   "source": [
    "results_columns=results_columns.toPandas()\n",
    "plt.scatter(x=results_columns['prediction'],y=results_columns['SO2'])\n",
    "plt.xlabel('Projected SO2')\n",
    "plt.ylabel('Actual SO2')\n",
    "plt.show()"
   ]
  },
  {
   "cell_type": "markdown",
   "metadata": {},
   "source": [
    "<font face=\"微软雅黑\" size=4  >7.2.1 Target Two-Realize the prediction of the polluted gas status"
   ]
  },
  {
   "cell_type": "code",
   "execution_count": 7,
   "metadata": {},
   "outputs": [],
   "source": [
    "# Split the training and testing set.\n",
    "categorize_train_data,categorize_test_data = final_data_categorize.randomSplit([0.7,0.3])"
   ]
  },
  {
   "cell_type": "code",
   "execution_count": 8,
   "metadata": {},
   "outputs": [
    {
     "name": "stdout",
     "output_type": "stream",
     "text": [
      "+-------+--------------------+\n",
      "|summary|           SO2_state|\n",
      "+-------+--------------------+\n",
      "|  count|              442994|\n",
      "|   mean|  1.0001986482886902|\n",
      "| stddev|0.033528074818995994|\n",
      "|    min|                   0|\n",
      "|    max|                   3|\n",
      "+-------+--------------------+\n",
      "\n",
      "+-------+--------------------+\n",
      "|summary|           SO2_state|\n",
      "+-------+--------------------+\n",
      "|  count|              189447|\n",
      "|   mean|   1.000311432749001|\n",
      "| stddev|0.033213246708372744|\n",
      "|    min|                   0|\n",
      "|    max|                   3|\n",
      "+-------+--------------------+\n",
      "\n"
     ]
    }
   ],
   "source": [
    "# Let's see our training data.\n",
    "categorize_train_data.describe().show()\n",
    "\n",
    "# And our testing data.\n",
    "categorize_test_data.describe().show()"
   ]
  },
  {
   "cell_type": "code",
   "execution_count": 9,
   "metadata": {},
   "outputs": [],
   "source": [
    "# Use defaults to make the comparison \"fair\". This simplifies the comparison process.\n",
    "Logist = LogisticRegression(labelCol='SO2_state',featuresCol='features')"
   ]
  },
  {
   "cell_type": "code",
   "execution_count": 10,
   "metadata": {},
   "outputs": [],
   "source": [
    "# Train the models (it's three models, so it might take some time).\n",
    "Logist_model=Logist.fit(categorize_train_data)"
   ]
  },
  {
   "cell_type": "code",
   "execution_count": 11,
   "metadata": {},
   "outputs": [],
   "source": [
    "Logist_predictions=Logist_model.transform(categorize_test_data)"
   ]
  },
  {
   "cell_type": "code",
   "execution_count": 12,
   "metadata": {},
   "outputs": [],
   "source": [
    "# Let's start off with binary classification.\n",
    "from pyspark.ml.evaluation import BinaryClassificationEvaluator\n",
    "\n",
    "# Note that the label column isn't named label, it's named PrivateIndex in this case.\n",
    "my_binary_eval = BinaryClassificationEvaluator(labelCol = 'SO2_state')"
   ]
  },
  {
   "cell_type": "code",
   "execution_count": 13,
   "metadata": {},
   "outputs": [
    {
     "name": "stdout",
     "output_type": "stream",
     "text": [
      "Logist\n",
      "0.9999450845381305\n"
     ]
    }
   ],
   "source": [
    "print(\"Logist\")\n",
    "print(my_binary_eval.evaluate(Logist_predictions))"
   ]
  },
  {
   "cell_type": "code",
   "execution_count": 14,
   "metadata": {},
   "outputs": [
    {
     "name": "stdout",
     "output_type": "stream",
     "text": [
      "+---------+----------+\n",
      "|SO2_state|prediction|\n",
      "+---------+----------+\n",
      "|        1|       1.0|\n",
      "|        1|       1.0|\n",
      "|        1|       1.0|\n",
      "|        1|       1.0|\n",
      "|        1|       1.0|\n",
      "|        1|       1.0|\n",
      "|        1|       1.0|\n",
      "|        1|       1.0|\n",
      "|        1|       1.0|\n",
      "|        1|       1.0|\n",
      "|        1|       1.0|\n",
      "|        1|       1.0|\n",
      "|        1|       1.0|\n",
      "|        1|       1.0|\n",
      "|        1|       1.0|\n",
      "|        1|       1.0|\n",
      "|        1|       1.0|\n",
      "|        1|       1.0|\n",
      "|        1|       1.0|\n",
      "|        1|       1.0|\n",
      "+---------+----------+\n",
      "only showing top 20 rows\n",
      "\n"
     ]
    }
   ],
   "source": [
    "Logist_predictions.select(\"SO2_state\",'prediction').show()"
   ]
  },
  {
   "cell_type": "code",
   "execution_count": 28,
   "metadata": {},
   "outputs": [
    {
     "data": {
      "text/plain": [
       "[('features', 'vector'),\n",
       " ('SO2_state', 'int'),\n",
       " ('rawPrediction', 'vector'),\n",
       " ('probability', 'vector'),\n",
       " ('prediction', 'double')]"
      ]
     },
     "execution_count": 28,
     "metadata": {},
     "output_type": "execute_result"
    }
   ],
   "source": [
    "Logist_predictions.dtypes"
   ]
  },
  {
   "cell_type": "code",
   "execution_count": 17,
   "metadata": {},
   "outputs": [
    {
     "data": {
      "image/png": "[encoded data removed]",
      "text/plain": [
       "<Figure size 432x288 with 1 Axes>"
      ]
     },
     "metadata": {},
     "output_type": "display_data"
    }
   ],
   "source": [
    "SO2pre = numpy.array(Logist_predictions.select('prediction').collect())\n",
    "SO2re = numpy.array(Logist_predictions.select('SO2_state').collect())\n",
    "plt.scatter(x=SO2pre,y=SO2re)\n",
    "plt.xlabel('Projected SO2_state')\n",
    "plt.ylabel('Actual SO2_state')\n",
    "plt.show()"
   ]
  },
  {
   "cell_type": "markdown",
   "metadata": {},
   "source": [
    "<font face=\"微软雅黑\" size=4  >8.5 Multiple iterations"
   ]
  },
  {
   "cell_type": "code",
   "execution_count": 3,
   "metadata": {},
   "outputs": [],
   "source": [
    "new_file = spark.read.csv('./filepandas_new.csv', header=True, inferSchema=True)"
   ]
  },
  {
   "cell_type": "code",
   "execution_count": 4,
   "metadata": {},
   "outputs": [],
   "source": [
    "# The input columns are the feature column names, and the output column is what you'd like the new column to be named. \n",
    "assembler_iterations = VectorAssembler(\n",
    "    inputCols=[\"Measurement date\", \"SO2_state\",\"CO\",\"O3\",\"PM10\",\"NO2\"],\n",
    "    outputCol=\"features\")"
   ]
  },
  {
   "cell_type": "code",
   "execution_count": 5,
   "metadata": {},
   "outputs": [],
   "source": [
    "# Now that we've created the assembler variable, let's actually transform the data.\n",
    "output_numeric_iterations = assembler_iterations.transform(new_file)"
   ]
  },
  {
   "cell_type": "code",
   "execution_count": 7,
   "metadata": {},
   "outputs": [
    {
     "name": "stdout",
     "output_type": "stream",
     "text": [
      "root\n",
      " |-- _c0: integer (nullable = true)\n",
      " |-- Measurement date: integer (nullable = true)\n",
      " |-- Station code: string (nullable = true)\n",
      " |-- SO2: double (nullable = true)\n",
      " |-- NO2: double (nullable = true)\n",
      " |-- O3: double (nullable = true)\n",
      " |-- CO: double (nullable = true)\n",
      " |-- PM10: double (nullable = true)\n",
      " |-- PM2.5: double (nullable = true)\n",
      " |-- SO2_state: integer (nullable = true)\n",
      " |-- NO2_state: integer (nullable = true)\n",
      " |-- CO_state: integer (nullable = true)\n",
      " |-- O3_state: integer (nullable = true)\n",
      " |-- PM10_state: integer (nullable = true)\n",
      " |-- PM2.5_state: integer (nullable = true)\n",
      " |-- features: vector (nullable = true)\n",
      "\n"
     ]
    }
   ],
   "source": [
    "# Using print schema, you see that the features output column has been added. \n",
    "output_numeric_iterations.printSchema()"
   ]
  },
  {
   "cell_type": "code",
   "execution_count": 8,
   "metadata": {},
   "outputs": [
    {
     "name": "stdout",
     "output_type": "stream",
     "text": [
      "+--------------------+-----+\n",
      "|            features|  SO2|\n",
      "+--------------------+-----+\n",
      "|[0.0,1.0,1.2,0.00...|0.004|\n",
      "|[1.0,1.0,1.2,0.00...|0.004|\n",
      "|[2.0,1.0,1.2,0.00...|0.004|\n",
      "|[3.0,1.0,1.2,0.00...|0.004|\n",
      "|[4.0,1.0,1.2,0.00...|0.003|\n",
      "|[5.0,1.0,1.1,0.00...|0.003|\n",
      "|[6.0,1.0,1.1,0.00...|0.003|\n",
      "|[7.0,1.0,1.0,0.00...|0.003|\n",
      "|[8.0,1.0,1.1,0.00...|0.004|\n",
      "|[9.0,1.0,1.1,0.00...|0.003|\n",
      "|[10.0,1.0,1.0,0.0...|0.004|\n",
      "|[11.0,1.0,1.0,0.0...|0.004|\n",
      "|[12.0,1.0,1.0,0.0...|0.004|\n",
      "|[13.0,1.0,1.0,0.0...|0.005|\n",
      "|[14.0,1.0,0.9,0.0...|0.006|\n",
      "|[15.0,1.0,0.8,0.0...|0.006|\n",
      "|[16.0,1.0,0.9,0.0...|0.006|\n",
      "|[17.0,1.0,0.9,0.0...|0.005|\n",
      "|[18.0,1.0,1.0,0.0...|0.005|\n",
      "|[19.0,1.0,1.0,0.0...|0.005|\n",
      "+--------------------+-----+\n",
      "only showing top 20 rows\n",
      "\n"
     ]
    }
   ],
   "source": [
    "final_data_numeric_iterations = output_numeric_iterations.select(\"features\",'SO2')\n",
    "final_data_numeric_iterations.show()"
   ]
  },
  {
   "cell_type": "code",
   "execution_count": 9,
   "metadata": {},
   "outputs": [],
   "source": [
    "numeric_train_data_iterations,numeric_test_data_iterations = final_data_numeric_iterations.randomSplit([0.9,0.1])"
   ]
  },
  {
   "cell_type": "code",
   "execution_count": 10,
   "metadata": {},
   "outputs": [
    {
     "name": "stdout",
     "output_type": "stream",
     "text": [
      "+-------+--------------------+\n",
      "|summary|                 SO2|\n",
      "+-------+--------------------+\n",
      "|  count|              569422|\n",
      "|   mean|0.004380828278502193|\n",
      "| stddev|0.003088161435427...|\n",
      "|    min|               0.001|\n",
      "|    max|               0.406|\n",
      "+-------+--------------------+\n",
      "\n",
      "+-------+--------------------+\n",
      "|summary|                 SO2|\n",
      "+-------+--------------------+\n",
      "|  count|               63019|\n",
      "|   mean|0.004367698630569013|\n",
      "| stddev|0.002604335826614...|\n",
      "|    min|               0.001|\n",
      "|    max|               0.273|\n",
      "+-------+--------------------+\n",
      "\n"
     ]
    }
   ],
   "source": [
    "# Let's see our training data.\n",
    "numeric_train_data_iterations.describe().show()\n",
    "\n",
    "# And our testing data.\n",
    "numeric_test_data_iterations.describe().show()"
   ]
  },
  {
   "cell_type": "code",
   "execution_count": 11,
   "metadata": {},
   "outputs": [],
   "source": [
    "#Function default linear regression\n",
    "lr_initial = LinearRegression(labelCol='SO2')"
   ]
  },
  {
   "cell_type": "code",
   "execution_count": 12,
   "metadata": {},
   "outputs": [],
   "source": [
    "# Fit the model to the data.\n",
    "lrModel_initial_iterations = lr_initial.fit(numeric_train_data_iterations)"
   ]
  },
  {
   "cell_type": "code",
   "execution_count": 14,
   "metadata": {},
   "outputs": [
    {
     "name": "stdout",
     "output_type": "stream",
     "text": [
      "Coefficients: [-4.208555575812566e-08,0.006756102183685241,0.004652385066837953,0.016876937016459464,1.3502576797050432e-06,-0.00820281781254946] Intercept: -0.004499695008020196\n"
     ]
    }
   ],
   "source": [
    "# Print the coefficients and intercept for linear regression.\n",
    "print(\"Coefficients: {} Intercept: {}\".format(lrModel_initial_iterations.coefficients,lrModel_initial_iterations.intercept))"
   ]
  },
  {
   "cell_type": "code",
   "execution_count": 15,
   "metadata": {},
   "outputs": [
    {
     "data": {
      "image/png": "[encoded data removed]",
      "text/plain": [
       "<Figure size 432x288 with 1 Axes>"
      ]
     },
     "metadata": {},
     "output_type": "display_data"
    }
   ],
   "source": [
    "x=numpy.sort(lrModel_initial_iterations.coefficients)\n",
    "plt.plot(x)\n",
    "plt.ylabel('Coefficients')\n",
    "plt.show()"
   ]
  },
  {
   "cell_type": "code",
   "execution_count": 16,
   "metadata": {},
   "outputs": [],
   "source": [
    "# Let's evaluate the model against the test data.\n",
    "test_results_initial_iterations = lrModel_initial_iterations.evaluate(numeric_test_data_iterations)"
   ]
  },
  {
   "cell_type": "code",
   "execution_count": 17,
   "metadata": {},
   "outputs": [
    {
     "name": "stdout",
     "output_type": "stream",
     "text": [
      "RSME_initial: 0.0020847053281311478\n",
      "R2_initial: 0.35922984787567536\n"
     ]
    }
   ],
   "source": [
    "# Let's get some evaluation metrics (as discussed in the previous linear regression notebook).\n",
    "print(\"RSME_initial: {}\".format(test_results_initial_iterations.rootMeanSquaredError))\n",
    "# We can also get the R2 value. \n",
    "print(\"R2_initial: {}\".format(test_results_initial_iterations.r2))"
   ]
  },
  {
   "cell_type": "code",
   "execution_count": 20,
   "metadata": {},
   "outputs": [],
   "source": [
    "results_columns_iterations=lrModel_initial_iterations.transform(numeric_test_data_iterations)"
   ]
  },
  {
   "cell_type": "code",
   "execution_count": 22,
   "metadata": {},
   "outputs": [
    {
     "data": {
      "text/plain": [
       "[('features', 'vector'), ('SO2', 'double'), ('prediction', 'double')]"
      ]
     },
     "execution_count": 22,
     "metadata": {},
     "output_type": "execute_result"
    }
   ],
   "source": [
    "results_columns_iterations.dtypes"
   ]
  },
  {
   "cell_type": "code",
   "execution_count": 23,
   "metadata": {},
   "outputs": [
    {
     "data": {
      "image/png": "[encoded data removed]",
      "text/plain": [
       "<Figure size 432x288 with 1 Axes>"
      ]
     },
     "metadata": {},
     "output_type": "display_data"
    }
   ],
   "source": [
    "results_columns_iterations=results_columns_iterations.toPandas()\n",
    "plt.scatter(x=results_columns_iterations['prediction'],y=results_columns_iterations['SO2'])\n",
    "plt.xlabel('Projected SO2')\n",
    "plt.ylabel('Actual SO2')\n",
    "plt.show()"
   ]
  },
  {
   "cell_type": "code",
   "execution_count": 4,
   "metadata": {},
   "outputs": [],
   "source": [
    "# Let's import the string indexer (similar to the logistic regression exercises).\n",
    "from pyspark.ml.feature import StringIndexer\n",
    "from pyspark.ml.classification import LogisticRegression\n",
    "indexer = StringIndexer(inputCol=\"Station code\", outputCol=\"Station code Index\")\n",
    "output_fixed = indexer.fit(new_file).transform(new_file)"
   ]
  },
  {
   "cell_type": "code",
   "execution_count": 5,
   "metadata": {},
   "outputs": [],
   "source": [
    "# The input columns are the feature column names, and the output column is what you'd like the new column to be named. \n",
    "assembler2_iterations = VectorAssembler(\n",
    "    inputCols=[\"Measurement date\", \"Station code Index\", \"CO_state\",\"NO2_state\",\"O3_state\",\"PM10_state\"],\n",
    "    outputCol=\"features\")\n",
    "# Now that we've created the assembler variable, let's actually transform the data.\n",
    "output_categorize_iterations = assembler2_iterations.transform(output_fixed)"
   ]
  },
  {
   "cell_type": "code",
   "execution_count": 6,
   "metadata": {},
   "outputs": [
    {
     "name": "stdout",
     "output_type": "stream",
     "text": [
      "+--------------------+---------+\n",
      "|            features|SO2_state|\n",
      "+--------------------+---------+\n",
      "|[0.0,1.0,1.0,2.0,...|        1|\n",
      "|[1.0,1.0,1.0,2.0,...|        1|\n",
      "|[2.0,1.0,1.0,2.0,...|        1|\n",
      "|[3.0,1.0,1.0,2.0,...|        1|\n",
      "|[4.0,1.0,1.0,2.0,...|        1|\n",
      "|[5.0,1.0,1.0,2.0,...|        1|\n",
      "|[6.0,1.0,1.0,2.0,...|        1|\n",
      "|[7.0,1.0,1.0,2.0,...|        1|\n",
      "|[8.0,1.0,1.0,2.0,...|        1|\n",
      "|[9.0,1.0,1.0,2.0,...|        1|\n",
      "|[10.0,1.0,1.0,2.0...|        1|\n",
      "|[11.0,1.0,1.0,2.0...|        1|\n",
      "|[12.0,1.0,1.0,2.0...|        1|\n",
      "|[13.0,1.0,1.0,2.0...|        1|\n",
      "|[14.0,1.0,1.0,2.0...|        1|\n",
      "|[15.0,1.0,1.0,2.0...|        1|\n",
      "|[16.0,1.0,1.0,0.0...|        1|\n",
      "|[17.0,1.0,1.0,0.0...|        1|\n",
      "|[18.0,1.0,1.0,0.0...|        1|\n",
      "|[19.0,1.0,1.0,0.0...|        1|\n",
      "+--------------------+---------+\n",
      "only showing top 20 rows\n",
      "\n"
     ]
    }
   ],
   "source": [
    "final_data_categorize_iterations = output_categorize_iterations.select(\"features\",'SO2_state')\n",
    "final_data_categorize_iterations.show()"
   ]
  },
  {
   "cell_type": "code",
   "execution_count": 7,
   "metadata": {},
   "outputs": [],
   "source": [
    "# Split the training and testing set.\n",
    "categorize_train_data_iterations,categorize_test_data_iterations = final_data_categorize_iterations.randomSplit([0.7,0.3])"
   ]
  },
  {
   "cell_type": "code",
   "execution_count": 29,
   "metadata": {},
   "outputs": [
    {
     "name": "stdout",
     "output_type": "stream",
     "text": [
      "+-------+-------------------+\n",
      "|summary|          SO2_state|\n",
      "+-------+-------------------+\n",
      "|  count|             443142|\n",
      "|   mean| 1.0002392009784673|\n",
      "| stddev|0.03358946011957246|\n",
      "|    min|                  0|\n",
      "|    max|                  3|\n",
      "+-------+-------------------+\n",
      "\n",
      "+-------+--------------------+\n",
      "|summary|           SO2_state|\n",
      "+-------+--------------------+\n",
      "|  count|              189299|\n",
      "|   mean|   1.000216588571519|\n",
      "| stddev|0.033067612849424985|\n",
      "|    min|                   0|\n",
      "|    max|                   3|\n",
      "+-------+--------------------+\n",
      "\n"
     ]
    }
   ],
   "source": [
    "# Let's see our training data.\n",
    "categorize_train_data_iterations.describe().show()\n",
    "\n",
    "# And our testing data.\n",
    "categorize_test_data_iterations.describe().show()"
   ]
  },
  {
   "cell_type": "code",
   "execution_count": 8,
   "metadata": {},
   "outputs": [],
   "source": [
    "# Use defaults to make the comparison \"fair\". This simplifies the comparison process.\n",
    "Logist = LogisticRegression(labelCol='SO2_state',featuresCol='features')"
   ]
  },
  {
   "cell_type": "code",
   "execution_count": 9,
   "metadata": {},
   "outputs": [],
   "source": [
    "# Train the models (it's three models, so it might take some time).\n",
    "Logist_model_iterations=Logist.fit(categorize_train_data_iterations)"
   ]
  },
  {
   "cell_type": "code",
   "execution_count": 10,
   "metadata": {},
   "outputs": [],
   "source": [
    "Logist_predictions_iterations=Logist_model_iterations.transform(categorize_test_data_iterations)"
   ]
  },
  {
   "cell_type": "code",
   "execution_count": 11,
   "metadata": {},
   "outputs": [],
   "source": [
    "# Let's start off with binary classification.\n",
    "from pyspark.ml.evaluation import BinaryClassificationEvaluator\n",
    "\n",
    "# Note that the label column isn't named label, it's named PrivateIndex in this case.\n",
    "my_binary_eval = BinaryClassificationEvaluator(labelCol = 'SO2_state')"
   ]
  },
  {
   "cell_type": "code",
   "execution_count": 12,
   "metadata": {},
   "outputs": [
    {
     "name": "stdout",
     "output_type": "stream",
     "text": [
      "Logist\n",
      "0.6863471654470135\n"
     ]
    }
   ],
   "source": [
    "print(\"Logist\")\n",
    "print(my_binary_eval.evaluate(Logist_predictions_iterations))"
   ]
  },
  {
   "cell_type": "code",
   "execution_count": 36,
   "metadata": {},
   "outputs": [
    {
     "name": "stdout",
     "output_type": "stream",
     "text": [
      "+---------+----------+\n",
      "|SO2_state|prediction|\n",
      "+---------+----------+\n",
      "|        1|       1.0|\n",
      "|        1|       1.0|\n",
      "|        1|       1.0|\n",
      "|        1|       1.0|\n",
      "|        1|       1.0|\n",
      "|        1|       1.0|\n",
      "|        1|       1.0|\n",
      "|        1|       1.0|\n",
      "|        1|       1.0|\n",
      "|        1|       1.0|\n",
      "|        1|       1.0|\n",
      "|        1|       1.0|\n",
      "|        1|       1.0|\n",
      "|        1|       1.0|\n",
      "|        1|       1.0|\n",
      "|        1|       1.0|\n",
      "|        1|       1.0|\n",
      "|        1|       1.0|\n",
      "|        1|       1.0|\n",
      "|        1|       1.0|\n",
      "+---------+----------+\n",
      "only showing top 20 rows\n",
      "\n"
     ]
    }
   ],
   "source": [
    "Logist_predictions_iterations.select(\"SO2_state\",'prediction').show()"
   ]
  },
  {
   "cell_type": "code",
   "execution_count": 38,
   "metadata": {},
   "outputs": [
    {
     "data": {
      "text/plain": [
       "[('features', 'vector'),\n",
       " ('SO2_state', 'int'),\n",
       " ('rawPrediction', 'vector'),\n",
       " ('probability', 'vector'),\n",
       " ('prediction', 'double')]"
      ]
     },
     "execution_count": 38,
     "metadata": {},
     "output_type": "execute_result"
    }
   ],
   "source": [
    "Logist_predictions_iterations.dtypes"
   ]
  },
  {
   "cell_type": "code",
   "execution_count": 13,
   "metadata": {},
   "outputs": [
    {
     "data": {
      "image/png": "[encoded data removed]",
      "text/plain": [
       "<Figure size 432x288 with 1 Axes>"
      ]
     },
     "metadata": {},
     "output_type": "display_data"
    }
   ],
   "source": [
    "SO2pre = numpy.array(Logist_predictions_iterations.select('prediction').collect())\n",
    "SO2re = numpy.array(Logist_predictions_iterations.select('SO2_state').collect())\n",
    "plt.scatter(x=SO2pre,y=SO2re)\n",
    "plt.xlabel('Projected SO2_state')\n",
    "plt.ylabel('Actual SO2_state')\n",
    "plt.show()"
   ]
  },
  {
   "cell_type": "code",
   "execution_count": null,
   "metadata": {},
   "outputs": [],
   "source": []
  }
 ],
 "metadata": {
  "kernelspec": {
   "display_name": "Python 3",
   "language": "python",
   "name": "python3"
  },
  "language_info": {
   "codemirror_mode": {
    "name": "ipython",
    "version": 3
   },
   "file_extension": ".py",
   "mimetype": "text/x-python",
   "name": "python",
   "nbconvert_exporter": "python",
   "pygments_lexer": "ipython3",
   "version": "3.7.6"
  }
 },
 "nbformat": 4,
 "nbformat_minor": 2
}
